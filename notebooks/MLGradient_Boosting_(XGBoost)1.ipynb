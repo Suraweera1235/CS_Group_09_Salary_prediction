{
  "cells": [
    {
      "cell_type": "code",
      "execution_count": 3,
      "metadata": {
        "colab": {
          "base_uri": "https://localhost:8080/",
          "height": 206
        },
        "id": "mfdjqisInexC",
        "outputId": "839b70c6-76cf-4019-9c60-3997df53636c"
      },
      "outputs": [
        {
          "ename": "ModuleNotFoundError",
          "evalue": "No module named 'kagglehub'",
          "output_type": "error",
          "traceback": [
            "\u001b[31m---------------------------------------------------------------------------\u001b[39m",
            "\u001b[31mModuleNotFoundError\u001b[39m                       Traceback (most recent call last)",
            "\u001b[36mCell\u001b[39m\u001b[36m \u001b[39m\u001b[32mIn[3]\u001b[39m\u001b[32m, line 1\u001b[39m\n\u001b[32m----> \u001b[39m\u001b[32m1\u001b[39m \u001b[38;5;28;01mimport\u001b[39;00m\u001b[38;5;250m \u001b[39m\u001b[34;01mkagglehub\u001b[39;00m\n\u001b[32m      2\u001b[39m \u001b[38;5;28;01mimport\u001b[39;00m\u001b[38;5;250m \u001b[39m\u001b[34;01mpandas\u001b[39;00m\u001b[38;5;250m \u001b[39m\u001b[38;5;28;01mas\u001b[39;00m\u001b[38;5;250m \u001b[39m\u001b[34;01mpd\u001b[39;00m\n\u001b[32m      3\u001b[39m \u001b[38;5;28;01mimport\u001b[39;00m\u001b[38;5;250m \u001b[39m\u001b[34;01mnumpy\u001b[39;00m\u001b[38;5;250m \u001b[39m\u001b[38;5;28;01mas\u001b[39;00m\u001b[38;5;250m \u001b[39m\u001b[34;01mnp\u001b[39;00m\n",
            "\u001b[31mModuleNotFoundError\u001b[39m: No module named 'kagglehub'"
          ]
        }
      ],
      "source": [
        "import kagglehub\n",
        "import pandas as pd\n",
        "import numpy as np\n",
        "import os\n",
        "import plotly.express as px\n",
        "import cufflinks as cf\n",
        "import plotly.io as pio\n",
        "import matplotlib.pyplot as plt\n",
        "import matplotlib.cm as cm\n",
        "import seaborn as sns\n",
        "\n",
        "# Download the dataset to a directory\n",
        "path = kagglehub.dataset_download(\"mohithsairamreddy/salary-data\")\n",
        "\n",
        "# Read the CSV file into a DataFrame\n",
        "df = pd.read_csv(os.path.join(path, \"Salary_Data.csv\"))\n",
        "df_original = df.copy()\n",
        "df.head()"
      ]
    },
    {
      "cell_type": "markdown",
      "metadata": {
        "id": "GG7eroh-nhEO"
      },
      "source": []
    },
    {
      "cell_type": "code",
      "execution_count": null,
      "metadata": {
        "colab": {
          "base_uri": "https://localhost:8080/"
        },
        "id": "kt9poIxBhykB",
        "outputId": "25b12f11-da87-4cfb-d4e7-a1e88f306c2a"
      },
      "outputs": [
        {
          "name": "stdout",
          "output_type": "stream",
          "text": [
            "<class 'pandas.core.frame.DataFrame'>\n",
            "RangeIndex: 6704 entries, 0 to 6703\n",
            "Data columns (total 6 columns):\n",
            " #   Column               Non-Null Count  Dtype  \n",
            "---  ------               --------------  -----  \n",
            " 0   Age                  6702 non-null   float64\n",
            " 1   Gender               6702 non-null   object \n",
            " 2   Education Level      6701 non-null   object \n",
            " 3   Job Title            6702 non-null   object \n",
            " 4   Years of Experience  6701 non-null   float64\n",
            " 5   Salary               6699 non-null   float64\n",
            "dtypes: float64(3), object(3)\n",
            "memory usage: 314.4+ KB\n"
          ]
        }
      ],
      "source": [
        "df.info()"
      ]
    },
    {
      "cell_type": "markdown",
      "metadata": {
        "id": "o5EjAYCnh5Mj"
      },
      "source": [
        "# Data Cleaning"
      ]
    },
    {
      "cell_type": "markdown",
      "metadata": {
        "id": "4q_gfIdjh7PN"
      },
      "source": [
        "## Cast the object data type into category data types"
      ]
    },
    {
      "cell_type": "code",
      "execution_count": null,
      "metadata": {
        "colab": {
          "base_uri": "https://localhost:8080/"
        },
        "id": "ujiureLzh13Z",
        "outputId": "ac623fe6-6715-4576-bad5-86382171908f"
      },
      "outputs": [
        {
          "name": "stdout",
          "output_type": "stream",
          "text": [
            "<class 'pandas.core.frame.DataFrame'>\n",
            "RangeIndex: 6704 entries, 0 to 6703\n",
            "Data columns (total 6 columns):\n",
            " #   Column               Non-Null Count  Dtype   \n",
            "---  ------               --------------  -----   \n",
            " 0   Age                  6702 non-null   float64 \n",
            " 1   Gender               6702 non-null   category\n",
            " 2   Education Level      6701 non-null   category\n",
            " 3   Job Title            6702 non-null   category\n",
            " 4   Years of Experience  6701 non-null   float64 \n",
            " 5   Salary               6699 non-null   float64 \n",
            "dtypes: category(3), float64(3)\n",
            "memory usage: 189.5 KB\n"
          ]
        }
      ],
      "source": [
        "df['Gender'] = df['Gender'].astype('category')\n",
        "df['Education Level'] = df['Education Level'].astype('category')\n",
        "df['Job Title'] = df['Job Title'].astype('category')\n",
        "df.info()"
      ]
    },
    {
      "cell_type": "markdown",
      "metadata": {
        "id": "dzE7032IiHBC"
      },
      "source": [
        "## Ensure numeric fields are numeric"
      ]
    },
    {
      "cell_type": "code",
      "execution_count": null,
      "metadata": {
        "colab": {
          "base_uri": "https://localhost:8080/"
        },
        "id": "o8NFnMegiCm5",
        "outputId": "08c3e9ea-54df-42e4-ee0b-a48babf9f4fe"
      },
      "outputs": [
        {
          "name": "stdout",
          "output_type": "stream",
          "text": [
            "<class 'pandas.core.frame.DataFrame'>\n",
            "RangeIndex: 6704 entries, 0 to 6703\n",
            "Data columns (total 6 columns):\n",
            " #   Column               Non-Null Count  Dtype   \n",
            "---  ------               --------------  -----   \n",
            " 0   Age                  6702 non-null   float64 \n",
            " 1   Gender               6702 non-null   category\n",
            " 2   Education Level      6701 non-null   category\n",
            " 3   Job Title            6702 non-null   category\n",
            " 4   Years of Experience  6701 non-null   float64 \n",
            " 5   Salary               6699 non-null   float64 \n",
            "dtypes: category(3), float64(3)\n",
            "memory usage: 189.5 KB\n"
          ]
        }
      ],
      "source": [
        "df['Age'] = df['Age'].astype(float)\n",
        "df['Years of Experience'] = df['Years of Experience'].astype(float)\n",
        "df['Salary'] = df['Salary'].astype(float)\n",
        "df.info()"
      ]
    },
    {
      "cell_type": "markdown",
      "metadata": {
        "id": "vr8zNtApiVLQ"
      },
      "source": [
        "## Check for null values"
      ]
    },
    {
      "cell_type": "code",
      "execution_count": null,
      "metadata": {
        "colab": {
          "base_uri": "https://localhost:8080/",
          "height": 272
        },
        "id": "MtdvsXS5iZRM",
        "outputId": "c02220df-5266-4e5f-dac5-e4db21c00353"
      },
      "outputs": [
        {
          "data": {
            "text/html": [
              "<div>\n",
              "<style scoped>\n",
              "    .dataframe tbody tr th:only-of-type {\n",
              "        vertical-align: middle;\n",
              "    }\n",
              "\n",
              "    .dataframe tbody tr th {\n",
              "        vertical-align: top;\n",
              "    }\n",
              "\n",
              "    .dataframe thead th {\n",
              "        text-align: right;\n",
              "    }\n",
              "</style>\n",
              "<table border=\"1\" class=\"dataframe\">\n",
              "  <thead>\n",
              "    <tr style=\"text-align: right;\">\n",
              "      <th></th>\n",
              "      <th>0</th>\n",
              "    </tr>\n",
              "  </thead>\n",
              "  <tbody>\n",
              "    <tr>\n",
              "      <th>Age</th>\n",
              "      <td>2</td>\n",
              "    </tr>\n",
              "    <tr>\n",
              "      <th>Gender</th>\n",
              "      <td>2</td>\n",
              "    </tr>\n",
              "    <tr>\n",
              "      <th>Education Level</th>\n",
              "      <td>3</td>\n",
              "    </tr>\n",
              "    <tr>\n",
              "      <th>Job Title</th>\n",
              "      <td>2</td>\n",
              "    </tr>\n",
              "    <tr>\n",
              "      <th>Years of Experience</th>\n",
              "      <td>3</td>\n",
              "    </tr>\n",
              "    <tr>\n",
              "      <th>Salary</th>\n",
              "      <td>5</td>\n",
              "    </tr>\n",
              "  </tbody>\n",
              "</table>\n",
              "</div><br><label><b>dtype:</b> int64</label>"
            ],
            "text/plain": [
              "Age                    2\n",
              "Gender                 2\n",
              "Education Level        3\n",
              "Job Title              2\n",
              "Years of Experience    3\n",
              "Salary                 5\n",
              "dtype: int64"
            ]
          },
          "execution_count": 9,
          "metadata": {},
          "output_type": "execute_result"
        }
      ],
      "source": [
        "# Check for missing values\n",
        "df.isnull().sum()"
      ]
    },
    {
      "cell_type": "code",
      "execution_count": null,
      "metadata": {
        "id": "f4Q2zfd9icmU"
      },
      "outputs": [],
      "source": [
        "#If there are missing values\n",
        "df.replace('?', np.nan, inplace=True)\n",
        "df.dropna(inplace=True)"
      ]
    },
    {
      "cell_type": "code",
      "execution_count": null,
      "metadata": {
        "colab": {
          "base_uri": "https://localhost:8080/",
          "height": 272
        },
        "id": "_8eAs2zwigen",
        "outputId": "86d8fcf2-846e-4a1d-ae6a-9d50bcfb3a8f"
      },
      "outputs": [
        {
          "data": {
            "text/html": [
              "<div>\n",
              "<style scoped>\n",
              "    .dataframe tbody tr th:only-of-type {\n",
              "        vertical-align: middle;\n",
              "    }\n",
              "\n",
              "    .dataframe tbody tr th {\n",
              "        vertical-align: top;\n",
              "    }\n",
              "\n",
              "    .dataframe thead th {\n",
              "        text-align: right;\n",
              "    }\n",
              "</style>\n",
              "<table border=\"1\" class=\"dataframe\">\n",
              "  <thead>\n",
              "    <tr style=\"text-align: right;\">\n",
              "      <th></th>\n",
              "      <th>0</th>\n",
              "    </tr>\n",
              "  </thead>\n",
              "  <tbody>\n",
              "    <tr>\n",
              "      <th>Age</th>\n",
              "      <td>0</td>\n",
              "    </tr>\n",
              "    <tr>\n",
              "      <th>Gender</th>\n",
              "      <td>0</td>\n",
              "    </tr>\n",
              "    <tr>\n",
              "      <th>Education Level</th>\n",
              "      <td>0</td>\n",
              "    </tr>\n",
              "    <tr>\n",
              "      <th>Job Title</th>\n",
              "      <td>0</td>\n",
              "    </tr>\n",
              "    <tr>\n",
              "      <th>Years of Experience</th>\n",
              "      <td>0</td>\n",
              "    </tr>\n",
              "    <tr>\n",
              "      <th>Salary</th>\n",
              "      <td>0</td>\n",
              "    </tr>\n",
              "  </tbody>\n",
              "</table>\n",
              "</div><br><label><b>dtype:</b> int64</label>"
            ],
            "text/plain": [
              "Age                    0\n",
              "Gender                 0\n",
              "Education Level        0\n",
              "Job Title              0\n",
              "Years of Experience    0\n",
              "Salary                 0\n",
              "dtype: int64"
            ]
          },
          "execution_count": 11,
          "metadata": {},
          "output_type": "execute_result"
        }
      ],
      "source": [
        "df.isnull().sum()\n"
      ]
    },
    {
      "cell_type": "markdown",
      "metadata": {
        "id": "k42FHy16j6gq"
      },
      "source": [
        "## Check for duplicated values"
      ]
    },
    {
      "cell_type": "code",
      "execution_count": null,
      "metadata": {
        "colab": {
          "base_uri": "https://localhost:8080/"
        },
        "id": "FomAXHc3j8N7",
        "outputId": "6f2b465a-7eba-471c-a9d1-8c8c239e384b"
      },
      "outputs": [
        {
          "name": "stdout",
          "output_type": "stream",
          "text": [
            "Number of duplicate rows: 4911\n"
          ]
        }
      ],
      "source": [
        "# Check how many duplicate rows exist\n",
        "duplicate_rows = df[df.duplicated()]\n",
        "print(f\"Number of duplicate rows: {duplicate_rows.shape[0]}\")\n",
        "\n",
        "# Display duplicate rows\n",
        "# print(duplicate_rows)"
      ]
    },
    {
      "cell_type": "code",
      "execution_count": null,
      "metadata": {
        "id": "5-FmluCRkBUL"
      },
      "outputs": [],
      "source": [
        "# Remove duplicate rows (keeps first occurrence by default)\n",
        "df = df.drop_duplicates()\n",
        "\n",
        "# Reset index if needed\n",
        "df.reset_index(drop=True, inplace=True)"
      ]
    },
    {
      "cell_type": "code",
      "execution_count": null,
      "metadata": {
        "colab": {
          "base_uri": "https://localhost:8080/"
        },
        "id": "qBEq0hfZkLJD",
        "outputId": "0beb2b59-5372-41e5-a526-7b05e7bc9fb3"
      },
      "outputs": [
        {
          "name": "stdout",
          "output_type": "stream",
          "text": [
            "Remaining duplicate rows: 0\n"
          ]
        }
      ],
      "source": [
        "print(f\"Remaining duplicate rows: {df.duplicated().sum()}\")"
      ]
    },
    {
      "cell_type": "markdown",
      "metadata": {
        "id": "Qpq0QS88kRlz"
      },
      "source": [
        "## Standardize Text Values"
      ]
    },
    {
      "cell_type": "code",
      "execution_count": null,
      "metadata": {
        "colab": {
          "base_uri": "https://localhost:8080/",
          "height": 272
        },
        "id": "7WftouZlkRQR",
        "outputId": "0b75426e-46d6-4358-bec6-530f8c92bfde"
      },
      "outputs": [
        {
          "data": {
            "text/html": [
              "<div>\n",
              "<style scoped>\n",
              "    .dataframe tbody tr th:only-of-type {\n",
              "        vertical-align: middle;\n",
              "    }\n",
              "\n",
              "    .dataframe tbody tr th {\n",
              "        vertical-align: top;\n",
              "    }\n",
              "\n",
              "    .dataframe thead th {\n",
              "        text-align: right;\n",
              "    }\n",
              "</style>\n",
              "<table border=\"1\" class=\"dataframe\">\n",
              "  <thead>\n",
              "    <tr style=\"text-align: right;\">\n",
              "      <th></th>\n",
              "      <th>0</th>\n",
              "    </tr>\n",
              "  </thead>\n",
              "  <tbody>\n",
              "    <tr>\n",
              "      <th>Age</th>\n",
              "      <td>float64</td>\n",
              "    </tr>\n",
              "    <tr>\n",
              "      <th>Gender</th>\n",
              "      <td>category</td>\n",
              "    </tr>\n",
              "    <tr>\n",
              "      <th>Education Level</th>\n",
              "      <td>category</td>\n",
              "    </tr>\n",
              "    <tr>\n",
              "      <th>Job Title</th>\n",
              "      <td>category</td>\n",
              "    </tr>\n",
              "    <tr>\n",
              "      <th>Years of Experience</th>\n",
              "      <td>float64</td>\n",
              "    </tr>\n",
              "    <tr>\n",
              "      <th>Salary</th>\n",
              "      <td>float64</td>\n",
              "    </tr>\n",
              "  </tbody>\n",
              "</table>\n",
              "</div><br><label><b>dtype:</b> object</label>"
            ],
            "text/plain": [
              "Age                     float64\n",
              "Gender                 category\n",
              "Education Level        category\n",
              "Job Title              category\n",
              "Years of Experience     float64\n",
              "Salary                  float64\n",
              "dtype: object"
            ]
          },
          "execution_count": 16,
          "metadata": {},
          "output_type": "execute_result"
        }
      ],
      "source": [
        "for col in df.select_dtypes(include='object'):\n",
        "    df[col] = df[col].str.strip()\n",
        "\n",
        "for col in df.select_dtypes(include='object'):\n",
        "    df[col] = df[col].str.strip().str.lower()\n",
        "\n",
        "df.dtypes"
      ]
    },
    {
      "cell_type": "markdown",
      "metadata": {
        "id": "MWPZD9pjkgXp"
      },
      "source": [
        "## Summary of statistics"
      ]
    },
    {
      "cell_type": "code",
      "execution_count": null,
      "metadata": {
        "colab": {
          "base_uri": "https://localhost:8080/"
        },
        "id": "fXVRb_KQkh2G",
        "outputId": "a4d5dd40-20b4-49d5-a75d-f3af53f46a30"
      },
      "outputs": [
        {
          "name": "stdout",
          "output_type": "stream",
          "text": [
            "                Age Gender    Education Level                  Job Title  \\\n",
            "count   1787.000000   1787               1787                       1787   \n",
            "unique          NaN      3                  7                        191   \n",
            "top             NaN   Male  Bachelor's Degree  Software Engineer Manager   \n",
            "freq            NaN    966                506                        127   \n",
            "mean      35.139899    NaN                NaN                        NaN   \n",
            "std        8.213045    NaN                NaN                        NaN   \n",
            "min       21.000000    NaN                NaN                        NaN   \n",
            "25%       29.000000    NaN                NaN                        NaN   \n",
            "50%       33.000000    NaN                NaN                        NaN   \n",
            "75%       41.000000    NaN                NaN                        NaN   \n",
            "max       62.000000    NaN                NaN                        NaN   \n",
            "\n",
            "        Years of Experience         Salary  \n",
            "count           1787.000000    1787.000000  \n",
            "unique                  NaN            NaN  \n",
            "top                     NaN            NaN  \n",
            "freq                    NaN            NaN  \n",
            "mean               9.156128  113184.659765  \n",
            "std                6.844924   51596.536766  \n",
            "min                0.000000     350.000000  \n",
            "25%                3.000000   70000.000000  \n",
            "50%                8.000000  110000.000000  \n",
            "75%               13.000000  160000.000000  \n",
            "max               34.000000  250000.000000  \n"
          ]
        }
      ],
      "source": [
        "print(df.describe(include='all'))"
      ]
    },
    {
      "cell_type": "code",
      "execution_count": null,
      "metadata": {
        "colab": {
          "base_uri": "https://localhost:8080/"
        },
        "id": "gwm-Qac8krBD",
        "outputId": "6c63da04-3ca8-455f-8a9a-c925f6213cd9"
      },
      "outputs": [
        {
          "name": "stdout",
          "output_type": "stream",
          "text": [
            "Cleaned dataset shape: (1787, 6)\n"
          ]
        }
      ],
      "source": [
        "print(\"Cleaned dataset shape:\", df.shape)"
      ]
    },
    {
      "cell_type": "markdown",
      "metadata": {
        "id": "2a05oP3FkveJ"
      },
      "source": [
        "## Check the outliers"
      ]
    },
    {
      "cell_type": "code",
      "execution_count": null,
      "metadata": {
        "colab": {
          "base_uri": "https://localhost:8080/",
          "height": 577
        },
        "id": "kYWFe8YgksXD",
        "outputId": "83a4b2ed-d404-4dc6-cce5-710cdd99a6d0"
      },
      "outputs": [
        {
          "data": {
            "image/png": "[encoded data removed]",
            "text/plain": [
              "<Figure size 665x570 with 3 Axes>"
            ]
          },
          "metadata": {},
          "output_type": "display_data"
        }
      ],
      "source": [
        "# Identify only numerical columns\n",
        "numeric_cols = df.select_dtypes(include=[np.number]).columns\n",
        "\n",
        "fig, axs = plt.subplots(len(numeric_cols), 1, dpi=95, figsize=(7, len(numeric_cols) * 2))\n",
        "i = 0\n",
        "for col in numeric_cols:\n",
        "    axs[i].boxplot(df[col], vert=True) # Set vert=False for horizontal boxplots\n",
        "    axs[i].set_ylabel(col)\n",
        "    i+=1\n",
        "plt.tight_layout()\n",
        "plt.show()"
      ]
    },
    {
      "cell_type": "code",
      "execution_count": null,
      "metadata": {
        "colab": {
          "base_uri": "https://localhost:8080/",
          "height": 719
        },
        "id": "6KcKXf1OolvD",
        "outputId": "ccb5ca4f-544b-4caf-c803-6bc7b7af4fa9"
      },
      "outputs": [
        {
          "data": {
            "image/png": "[encoded data removed]",
            "text/plain": [
              "<Figure size 665x712.5 with 3 Axes>"
            ]
          },
          "metadata": {},
          "output_type": "display_data"
        }
      ],
      "source": [
        "import matplotlib.pyplot as plt\n",
        "import numpy as np\n",
        "\n",
        "# Select only numerical columns\n",
        "numeric_cols = df.select_dtypes(include=[np.number]).columns\n",
        "\n",
        "# Create one subplot per numeric column\n",
        "fig, axs = plt.subplots(len(numeric_cols), 1, dpi=95, figsize=(7, len(numeric_cols) * 2.5))\n",
        "\n",
        "# Loop through each column and plot its histogram\n",
        "for i, col in enumerate(numeric_cols):\n",
        "    axs[i].hist(df[col], bins=30, color='skyblue', edgecolor='black', orientation='horizontal') # Set orientation='horizontal' for horizontal histograms\n",
        "    axs[i].set_title(f\"Histogram of {col}\")\n",
        "    axs[i].set_xlabel(\"Frequency\") # Swap xlabel and ylabel for horizontal\n",
        "    axs[i].set_ylabel(col) # Swap xlabel and ylabel for horizontal\n",
        "\n",
        "plt.tight_layout()\n",
        "plt.show()"
      ]
    },
    {
      "cell_type": "code",
      "execution_count": null,
      "metadata": {
        "colab": {
          "base_uri": "https://localhost:8080/"
        },
        "id": "yE9XYSD-ns0j",
        "outputId": "2d41c665-2077-4f9b-eb67-30af4a8ff302"
      },
      "outputs": [
        {
          "name": "stdout",
          "output_type": "stream",
          "text": [
            "Cleaned dataset shape: (1761, 6)\n"
          ]
        }
      ],
      "source": [
        "# Identify only numerical columns\n",
        "numeric_cols = df.select_dtypes(include=[np.number]).columns\n",
        "\n",
        "# Loop through each numerical column and apply IQR method\n",
        "for col in numeric_cols:\n",
        "    q1, q3 = np.percentile(df[col], [25, 75])\n",
        "    iqr = q3 - q1\n",
        "    lower_bound = q1 - (1.5 * iqr)\n",
        "    upper_bound = q3 + (1.5 * iqr)\n",
        "\n",
        "    # Filter out outliers for this column\n",
        "    df = df[(df[col] >= lower_bound) & (df[col] <= upper_bound)]\n",
        "\n",
        "# The DataFrame df now has outliers removed from all numeric columns\n",
        "print(\"Cleaned dataset shape:\", df.shape)"
      ]
    },
    {
      "cell_type": "code",
      "execution_count": null,
      "metadata": {
        "colab": {
          "base_uri": "https://localhost:8080/"
        },
        "id": "ZUoe2A-Enwtt",
        "outputId": "2eae2b4e-8ffb-48b3-f668-885396764654"
      },
      "outputs": [
        {
          "name": "stdout",
          "output_type": "stream",
          "text": [
            "Skewness: 0.09642479691218055\n",
            "Kurtosis: -1.0957167324545287\n"
          ]
        }
      ],
      "source": [
        "from scipy.stats import skew, kurtosis\n",
        "\n",
        "print(\"Skewness:\", skew(df['Salary']))\n",
        "print(\"Kurtosis:\", kurtosis(df['Salary']))"
      ]
    },
    {
      "cell_type": "code",
      "execution_count": null,
      "metadata": {
        "colab": {
          "base_uri": "https://localhost:8080/",
          "height": 917
        },
        "id": "PAaDZQVEph3J",
        "outputId": "15b06ac7-e4de-4913-f863-f0f9f6007e84"
      },
      "outputs": [
        {
          "data": {
            "text/html": [
              "<html>\n",
              "<head><meta charset=\"utf-8\" /></head>\n",
              "<body>\n",
              "    <div>            <script src=\"https://cdnjs.cloudflare.com/ajax/libs/mathjax/2.7.5/MathJax.js?config=TeX-AMS-MML_SVG\"></script><script type=\"text/javascript\">if (window.MathJax && window.MathJax.Hub && window.MathJax.Hub.Config) {window.MathJax.Hub.Config({SVG: {font: \"STIX-Web\"}});}</script>                <script type=\"text/javascript\">window.PlotlyConfig = {MathJaxConfig: 'local'};</script>\n",
              "        <script charset=\"utf-8\" src=\"https://cdn.plot.ly/plotly-2.35.2.min.js\"></script>                <div id=\"9b384053-ae4b-4e7d-94a6-9f2f0948d93b\" class=\"plotly-graph-div\" style=\"height:900px; width:100%;\"></div>            <script type=\"text/javascript\">                                    window.PLOTLYENV=window.PLOTLYENV || {};                                    if (document.getElementById(\"9b384053-ae4b-4e7d-94a6-9f2f0948d93b\")) {                    Plotly.newPlot(                        \"9b384053-ae4b-4e7d-94a6-9f2f0948d93b\",                        [{\"marker\":{\"color\":\"lightblue\"},\"name\":\"Age\",\"orientation\":\"h\",\"x\":[32.0,28.0,45.0,36.0,52.0,29.0,42.0,31.0,26.0,38.0,29.0,48.0,35.0,40.0,27.0,44.0,33.0,39.0,25.0,51.0,34.0,47.0,30.0,36.0,41.0,28.0,37.0,24.0,43.0,33.0,50.0,31.0,29.0,39.0,46.0,27.0,35.0,42.0,26.0,49.0,34.0,48.0,30.0,36.0,41.0,28.0,32.0,45.0,38.0,25.0,51.0,33.0,40.0,47.0,29.0,36.0,27.0,43.0,30.0,35.0,51.0,29.0,40.0,47.0,26.0,38.0,46.0,31.0,34.0,49.0,33.0,39.0,45.0,28.0,42.0,37.0,50.0,32.0,48.0,30.0,36.0,41.0,25.0,52.0,29.0,34.0,27.0,40.0,46.0,31.0,36.0,29.0,43.0,52.0,33.0,39.0,47.0,26.0,38.0,45.0,31.0,35.0,49.0,33.0,39.0,44.0,30.0,36.0,41.0,28.0,42.0,37.0,50.0,32.0,23.0,31.0,40.0,48.0,29.0,35.0,42.0,53.0,33.0,38.0,44.0,26.0,37.0,45.0,32.0,34.0,50.0,29.0,40.0,47.0,27.0,39.0,46.0,30.0,36.0,43.0,28.0,41.0,33.0,47.0,25.0,34.0,42.0,31.0,38.0,45.0,29.0,36.0,43.0,26.0,37.0,44.0,32.0,33.0,51.0,28.0,39.0,48.0,30.0,35.0,41.0,27.0,40.0,46.0,31.0,34.0,50.0,29.0,43.0,26.0,35.0,42.0,31.0,38.0,46.0,29.0,37.0,44.0,27.0,36.0,43.0,33.0,34.0,50.0,28.0,39.0,47.0,30.0,34.0,40.0,41.0,45.0,32.0,35.0,49.0,30.0,44.0,27.0,36.0,41.0,31.0,39.0,47.0,30.0,38.0,45.0,28.0,35.0,44.0,34.0,35.0,50.0,29.0,40.0,48.0,31.0,33.0,42.0,28.0,40.0,46.0,33.0,37.0,51.0,30.0,43.0,27.0,35.0,42.0,32.0,37.0,45.0,33.0,39.0,44.0,29.0,38.0,46.0,34.0,36.0,49.0,31.0,41.0,47.0,29.0,37.0,31.0,42.0,29.0,36.0,44.0,33.0,39.0,45.0,32.0,37.0,47.0,30.0,38.0,46.0,34.0,36.0,49.0,31.0,47.0,29.0,35.0,44.0,33.0,44.0,32.0,38.0,49.0,29.0,35.0,45.0,33.0,40.0,44.0,30.0,37.0,48.0,31.0,38.0,33.0,36.0,42.0,34.0,30.0,37.0,45.0,32.0,39.0,47.0,29.0,36.0,43.0,32.0,48.0,31.0,40.0,45.0,33.0,36.0,47.0,29.0,34.0,44.0,33.0,35.0,43.0,31.0,41.0,44.0,45.0,28.0,36.0,44.0,31.0,43.0,31.0,28.0,26.0,27.0,30.0,29.0,32.0,25.0,33.0,31.0,28.0,30.0,27.0,34.0,28.0,26.0,27.0,30.0,29.0,26.0,29.0,32.0,27.0,24.0,31.0,28.0,33.0,25.0,30.0,27.0,34.0,23.0,32.0,29.0,30.0,31.0,31.0,28.0,33.0,26.0,30.0,27.0,34.0,25.0,30.0,31.0,25.0,28.0,30.0,24.0,31.0,23.0,29.0,26.0,25.0,27.0,24.0,31.0,33.0,30.0,34.0,23.0,32.0,28.0,25.0,33.0,24.0,32.0,27.0,40.0,35.0,43.0,29.0,36.0,31.0,42.0,33.0,29.0,41.0,35.0,27.0,32.0,29.0,30.0,24.0,33.0,26.0,30.0,31.0,28.0,26.0,30.0,27.0,24.0,33.0,25.0,28.0,29.0,33.0,31.0,32.0,34.0,25.0,29.0,27.0,33.0,28.0,26.0,31.0,30.0,32.0,29.0,35.0,27.0,28.0,37.0,26.0,30.0,31.0,29.0,32.0,28.0,34.0,25.0,30.0,29.0,31.0,27.0,28.0,44.0,33.0,50.0,27.0,25.0,35.0,47.0,46.0,32.0,41.0,37.0,53.0,30.0,26.0,37.0,32.0,44.0,50.0,27.0,42.0,57.0,35.0,26.0,42.0,41.0,36.0,49.0,49.0,47.0,47.0,26.0,24.0,42.0,41.0,23.0,55.0,33.0,31.0,50.0,24.0,56.0,24.0,37.0,43.0,34.0,45.0,29.0,29.0,29.0,48.0,43.0,54.0,54.0,27.0,23.0,45.0,32.0,57.0,47.0,25.0,58.0,41.0,41.0,47.0,32.0,45.0,53.0,47.0,23.0,33.0,42.0,37.0,44.0,38.0,34.0,46.0,30.0,44.0,42.0,27.0,54.0,38.0,31.0,28.0,30.0,54.0,37.0,31.0,58.0,23.0,52.0,32.0,32.0,34.0,28.0,44.0,46.0,27.0,23.0,43.0,28.0,43.0,43.0,36.0,28.0,28.0,43.0,44.0,37.0,56.0,27.0,31.0,50.0,33.0,41.0,24.0,43.0,58.0,29.0,52.0,36.0,26.0,47.0,32.0,57.0,51.0,27.0,36.0,33.0,25.0,40.0,36.0,31.0,24.0,34.0,43.0,27.0,56.0,32.0,46.0,41.0,34.0,40.0,24.0,36.0,29.0,41.0,33.0,42.0,28.0,55.0,26.0,44.0,30.0,39.0,32.0,50.0,27.0,46.0,25.0,35.0,35.0,41.0,33.0,31.0,42.0,27.0,51.0,34.0,38.0,29.0,43.0,36.0,48.0,35.0,30.0,50.0,29.0,41.0,33.0,45.0,28.0,39.0,30.0,46.0,42.0,31.0,49.0,36.0,45.0,25.0,29.0,40.0,33.0,37.0,28.0,44.0,35.0,47.0,34.0,31.0,42.0,29.0,27.0,49.0,32.0,36.0,27.0,34.0,46.0,33.0,30.0,50.0,31.0,37.0,31.0,43.0,35.0,42.0,28.0,44.0,32.0,48.0,30.0,34.0,37.0,49.0,29.0,41.0,46.0,30.0,50.0,31.0,39.0,48.0,28.0,33.0,22.0,44.0,29.0,31.0,25.0,38.0,27.0,46.0,33.0,24.0,36.0,30.0,29.0,42.0,26.0,35.0,27.0,48.0,34.0,23.0,32.0,37.0,41.0,34.0,34.0,25.0,43.0,27.0,25.0,29.0,52.0,41.0,49.0,25.0,35.0,35.0,43.0,37.0,50.0,52.0,26.0,34.0,30.0,50.0,58.0,35.0,28.0,46.0,28.0,34.0,33.0,37.0,33.0,53.0,35.0,30.0,24.0,36.0,27.0,23.0,28.0,52.0,28.0,32.0,24.0,43.0,24.0,55.0,29.0,44.0,40.0,27.0,43.0,49.0,30.0,42.0,26.0,41.0,46.0,22.0,54.0,42.0,49.0,27.0,36.0,31.0,39.0,41.0,48.0,39.0,48.0,31.0,47.0,29.0,32.0,38.0,34.0,23.0,36.0,30.0,28.0,46.0,34.0,44.0,35.0,23.0,46.0,33.0,26.0,43.0,36.0,23.0,49.0,35.0,31.0,43.0,33.0,28.0,36.0,43.0,50.0,24.0,52.0,46.0,38.0,29.0,33.0,47.0,45.0,28.0,42.0,46.0,38.0,33.0,27.0,50.0,26.0,31.0,35.0,44.0,32.0,54.0,26.0,23.0,48.0,38.0,30.0,40.0,45.0,36.0,52.0,31.0,26.0,30.0,24.0,45.0,33.0,38.0,42.0,28.0,30.0,43.0,35.0,44.0,23.0,39.0,43.0,29.0,51.0,30.0,26.0,39.0,49.0,42.0,27.0,43.0,37.0,51.0,29.0,43.0,31.0,30.0,36.0,52.0,28.0,49.0,27.0,41.0,46.0,32.0,38.0,52.0,24.0,49.0,35.0,31.0,44.0,33.0,33.0,27.0,51.0,26.0,31.0,35.0,45.0,32.0,54.0,26.0,23.0,26.0,33.0,29.0,41.0,35.0,28.0,37.0,33.0,24.0,46.0,29.0,31.0,27.0,38.0,30.0,25.0,44.0,33.0,22.0,36.0,28.0,41.0,34.0,23.0,32.0,25.0,37.0,28.0,29.0,45.0,36.0,30.0,28.0,46.0,34.0,44.0,35.0,54.0,23.0,46.0,33.0,26.0,43.0,36.0,23.0,49.0,35.0,31.0,43.0,33.0,28.0,36.0,43.0,50.0,24.0,52.0,46.0,38.0,29.0,33.0,47.0,45.0,28.0,42.0,46.0,38.0,33.0,27.0,50.0,26.0,31.0,35.0,44.0,32.0,54.0,26.0,48.0,38.0,30.0,40.0,45.0,36.0,52.0,31.0,26.0,30.0,24.0,45.0,33.0,38.0,42.0,28.0,34.0,46.0,35.0,49.0,32.0,54.0,26.0,23.0,48.0,38.0,30.0,40.0,45.0,36.0,52.0,31.0,26.0,30.0,24.0,45.0,33.0,38.0,26.0,28.0,48.0,36.0,43.0,33.0,26.0,50.0,41.0,29.0,38.0,48.0,31.0,45.0,35.0,42.0,27.0,33.0,36.0,30.0,26.0,45.0,38.0,31.0,42.0,28.0,48.0,36.0,43.0,33.0,26.0,50.0,27.0,38.0,54.0,31.0,36.0,45.0,42.0,28.0,48.0,36.0,43.0,33.0,26.0,50.0,41.0,29.0,38.0,48.0,28.0,32.0,26.0,33.0,29.0,42.0,36.0,27.0,34.0,29.0,41.0,36.0,30.0,28.0,30.0,25.0,45.0,33.0,22.0,36.0,29.0,42.0,27.0,38.0,24.0,31.0,39.0,26.0,32.0,32.0,24.0,45.0,29.0,38.0,27.0,31.0,42.0,26.0,36.0,28.0,33.0,46.0,25.0,37.0,30.0,43.0,34.0,26.0,41.0,29.0,35.0,27.0,40.0,23.0,39.0,31.0,44.0,28.0,32.0,45.0,26.0,38.0,27.0,33.0,42.0,29.0,36.0,30.0,43.0,34.0,25.0,37.0,24.0,39.0,44.0,28.0,32.0,45.0,38.0,27.0,33.0,42.0,29.0,30.0,37.0,24.0,44.0,28.0,45.0,28.0,37.0,43.0,31.0,24.0,29.0,35.0,26.0,42.0,34.0,27.0,38.0,30.0,45.0,25.0,40.0,33.0,29.0,44.0,26.0,36.0,31.0,27.0,42.0,28.0,39.0,31.0,27.0,38.0,44.0,30.0,23.0,28.0,34.0,25.0,41.0,33.0,26.0,37.0,29.0,46.0,26.0,39.0,32.0,28.0,43.0,27.0,35.0,30.0,26.0,41.0,24.0,32.0,45.0,28.0,22.0,36.0,27.0,42.0,25.0,39.0,47.0,40.0,33.0,29.0,28.0,36.0,31.0,26.0,31.0,27.0,38.0,29.0,23.0,32.0,44.0,26.0,40.0,33.0,24.0,35.0,29.0,49.0,26.0,41.0,36.0,28.0,29.0,39.0,32.0,28.0,34.0,31.0,41.0,27.0,25.0,33.0,45.0,28.0,42.0,34.0,23.0,36.0,30.0,50.0,27.0,43.0,37.0,29.0,44.0,30.0,40.0,33.0,29.0,43.0,32.0,24.0,31.0,39.0,25.0,41.0,35.0,26.0,37.0,29.0,51.0,28.0,44.0,38.0,30.0,45.0,31.0,41.0,34.0,30.0,44.0,27.0,42.0,35.0,33.0,36.0,43.0,31.0,49.0,28.0,45.0,30.0,45.0,27.0,41.0,35.0,26.0,30.0,48.0,32.0,34.0,31.0,44.0,31.0,28.0,29.0,35.0,26.0,32.0,27.0,39.0,23.0,30.0,26.0,42.0,34.0,28.0,31.0,29.0,35.0,26.0,40.0,34.0,26.0,29.0,25.0,33.0,27.0,31.0,24.0,42.0,34.0,28.0,33.0,29.0,25.0,26.0,30.0,24.0,31.0,27.0,26.0,32.0,25.0,33.0,27.0,28.0,34.0,30.0,26.0,42.0,34.0,28.0,31.0,29.0,26.0,32.0,27.0,39.0,23.0,42.0,28.0,25.0,31.0,27.0,33.0,29.0,31.0,38.0,25.0,32.0,27.0,29.0,35.0,26.0,28.0,36.0,30.0,32.0,39.0,26.0,33.0,28.0,30.0,36.0,27.0,34.0,26.0,28.0,34.0,31.0,24.0,29.0,27.0,33.0,21.0,36.0,25.0,30.0,28.0,22.0,45.0,31.0,28.0,29.0,35.0,27.0,33.0,25.0,29.0,23.0,39.0,28.0,31.0,35.0,27.0,42.0,29.0,33.0,24.0,30.0,26.0,32.0,22.0,37.0,38.0,25.0,29.0,27.0,34.0,26.0,31.0,28.0,36.0,25.0,29.0,33.0,43.0,30.0,34.0,25.0,31.0,27.0,33.0,23.0,38.0,39.0,26.0,30.0,28.0,35.0,27.0,32.0,27.0,35.0,24.0,28.0,32.0,26.0,41.0,29.0,33.0,32.0,37.0,38.0,27.0,31.0,29.0,34.0,31.0,26.0,31.0,33.0,29.0,36.0,27.0,31.0,28.0,25.0,30.0,34.0,28.0,32.0,24.0,37.0,39.0,26.0,31.0,29.0,33.0,27.0,36.0,25.0,30.0,28.0,33.0,26.0,29.0,35.0,27.0,31.0,28.0,24.0,30.0,34.0,27.0,33.0,25.0,36.0,39.0,26.0,28.0,32.0,24.0,37.0,39.0,26.0,36.0,25.0,30.0,34.0,29.0,32.0,27.0,30.0,36.0,27.0,33.0,27.0,30.0,36.0,29.0,32.0,26.0,29.0,35.0,34.0,28.0,31.0,37.0,30.0,33.0,27.0,30.0,36.0,28.0,32.0,29.0,25.0,31.0,35.0,33.0,29.0,36.0,40.0,27.0,32.0,28.0,32.0,38.0,40.0,27.0,36.0,30.0,34.0,28.0,26.0,39.0,32.0,28.0,35.0,33.0,27.0,36.0,29.0,45.0,37.0,23.0,41.0,26.0,33.0,28.0,50.0,35.0,42.0,27.0,48.0,31.0,36.0,25.0,39.0,30.0,44.0,29.0,47.0,32.0,38.0,24.0,40.0,34.0,26.0,31.0,27.0,43.0,28.0,46.0,33.0,39.0,25.0,41.0,35.0,23.0,42.0,32.0,27.0,36.0,48.0,31.0,29.0,45.0,25.0,37.0,23.0,41.0,26.0,33.0,28.0,42.0,27.0,50.0,35.0,24.0,46.0,29.0,31.0,25.0,39.0,33.0,27.0,43.0,28.0,31.0,46.0,38.0,24.0,33.0,29.0,50.0,35.0,41.0,26.0,32.0,27.0,43.0,28.0,31.0,39.0,33.0,50.0,36.0,48.0,31.0,29.0,45.0,35.0,23.0,42.0,26.0,32.0,27.0,50.0,36.0,48.0,31.0,29.0,45.0,25.0,41.0,35.0,23.0,42.0,26.0,32.0,27.0,50.0,36.0,48.0,37.0,26.0,42.0,33.0,29.0,45.0,24.0,39.0,31.0,27.0,43.0,28.0,50.0,35.0,23.0,41.0,26.0,32.0,50.0,36.0,29.0,45.0,38.0,27.0,43.0,34.0,30.0,46.0,40.0,32.0,28.0,44.0,51.0,36.0,24.0,27.0,33.0,28.0,51.0,37.0,49.0,32.0,30.0,46.0,26.0,42.0,36.0,24.0,43.0,27.0,33.0,28.0,51.0,37.0,49.0,32.0,30.0,46.0,26.0,42.0,36.0,24.0,43.0,27.0,33.0,37.0,30.0],\"type\":\"box\",\"xaxis\":\"x\",\"yaxis\":\"y\"},{\"marker\":{\"color\":\"lightblue\"},\"name\":\"Years of Experience\",\"orientation\":\"h\",\"x\":[5.0,3.0,15.0,7.0,20.0,2.0,12.0,4.0,1.0,10.0,3.0,18.0,6.0,14.0,2.0,16.0,7.0,12.0,0.0,22.0,5.0,19.0,2.0,9.0,13.0,3.0,11.0,1.0,15.0,6.0,25.0,4.0,3.0,10.0,20.0,2.0,7.0,14.0,1.0,21.0,5.0,18.0,3.0,8.0,13.0,2.0,5.0,16.0,11.0,0.0,22.0,7.0,12.0,19.0,3.0,9.0,2.0,17.0,4.0,7.0,23.0,3.0,12.0,21.0,1.0,10.0,19.0,5.0,8.0,18.0,6.0,11.0,16.0,2.0,14.0,10.0,22.0,6.0,20.0,3.0,8.0,13.0,0.0,24.0,2.0,10.0,2.0,15.0,21.0,6.0,11.0,3.0,18.0,25.0,7.0,12.0,22.0,1.0,10.0,20.0,5.0,8.0,19.0,5.0,13.0,16.0,3.0,7.0,14.0,2.0,15.0,9.0,22.0,6.0,0.5,6.0,15.0,20.0,3.0,10.0,17.0,25.0,5.0,11.0,16.0,2.0,9.0,18.0,4.0,8.0,21.0,3.0,12.0,22.0,1.0,10.0,19.0,4.0,7.0,14.0,2.0,13.0,5.0,20.0,1.5,8.0,16.0,4.0,10.0,19.0,3.0,11.0,18.0,2.0,9.0,14.0,5.0,7.0,23.0,2.0,12.0,21.0,3.0,7.0,13.0,1.5,14.0,18.0,4.0,9.0,20.0,2.0,16.0,1.5,7.0,18.0,4.0,10.0,20.0,2.0,9.0,15.0,2.0,8.0,14.0,6.0,9.0,22.0,1.5,12.0,19.0,3.0,7.0,13.0,11.0,17.0,5.0,9.0,21.0,3.0,16.0,1.5,7.0,17.0,4.0,10.0,20.0,2.0,9.0,15.0,2.0,8.0,14.0,6.0,9.0,22.0,1.5,12.0,19.0,3.0,7.0,13.0,2.0,11.0,18.0,5.0,9.0,21.0,3.0,15.0,1.5,8.0,13.0,3.0,9.0,16.0,5.0,10.0,18.0,1.5,10.0,19.0,6.0,8.0,21.0,3.0,11.0,20.0,1.5,10.0,3.0,12.0,1.5,8.0,15.0,4.0,9.0,16.0,4.0,8.0,20.0,2.0,9.0,17.0,5.0,8.0,21.0,3.0,19.0,1.5,9.0,15.0,4.0,13.0,4.0,10.0,21.0,2.0,7.0,14.0,4.0,12.0,16.0,2.0,9.0,20.0,3.0,9.0,5.0,8.0,12.0,6.0,2.0,10.0,16.0,4.0,12.0,20.0,2.0,9.0,15.0,3.0,21.0,3.0,12.0,16.0,4.0,8.0,19.0,2.0,7.0,15.0,5.0,8.0,18.0,3.0,14.0,16.0,19.0,1.0,8.0,16.0,3.0,19.0,6.0,3.0,2.0,2.0,5.0,4.0,7.0,1.0,8.0,6.0,3.0,5.0,2.0,9.0,3.0,2.0,2.0,5.0,4.0,3.0,6.0,8.0,4.0,1.0,9.0,5.0,11.0,2.0,7.0,4.0,12.0,1.0,10.0,6.0,5.0,6.0,9.0,5.0,11.0,3.0,7.0,4.0,12.0,2.0,5.0,9.0,2.0,6.0,8.0,1.0,9.0,1.0,6.0,3.0,2.0,4.0,3.0,7.0,10.0,6.0,11.0,1.0,9.0,5.0,3.0,11.0,1.0,5.0,3.0,12.0,8.0,15.0,4.0,9.0,6.0,13.0,7.0,4.0,11.0,8.0,4.0,8.0,6.0,5.0,2.0,11.0,3.0,7.0,9.0,5.0,3.0,7.0,4.0,2.0,11.0,2.0,5.0,6.0,11.0,6.0,8.0,12.0,2.0,7.0,5.0,10.0,4.0,3.0,8.0,6.0,9.0,7.0,12.0,5.0,6.0,14.0,3.0,8.0,9.0,7.0,10.0,6.0,12.0,2.0,8.0,6.0,9.0,5.0,7.0,18.0,5.0,16.0,3.0,1.0,8.0,12.0,13.0,4.0,11.0,9.0,19.0,2.0,3.0,9.0,5.0,12.0,16.0,4.0,14.0,18.0,7.0,2.0,11.0,14.0,8.0,15.0,15.0,15.0,14.0,2.0,1.0,14.0,11.0,1.0,17.0,5.0,6.0,16.0,1.0,17.0,1.0,8.0,13.0,6.0,15.0,3.0,3.0,3.0,16.0,11.0,17.0,14.0,3.0,1.0,13.0,5.0,16.0,14.0,2.0,17.0,12.0,12.0,15.0,5.0,14.0,18.0,14.0,1.0,6.0,14.0,9.0,12.0,10.0,6.0,14.0,4.0,11.0,14.0,3.0,18.0,10.0,6.0,4.0,6.0,16.0,9.0,7.0,17.0,1.0,16.0,6.0,6.0,7.0,2.0,11.0,14.0,2.0,1.0,13.0,2.0,12.0,13.0,7.0,3.0,3.0,12.0,12.0,10.0,18.0,2.0,7.0,16.0,6.0,12.0,1.0,12.0,17.0,3.0,18.0,8.0,2.0,16.0,6.0,18.0,16.0,2.0,7.0,5.0,1.0,12.0,8.0,7.0,1.0,5.0,12.0,2.0,18.0,7.0,16.0,11.0,6.0,12.0,1.0,7.0,3.0,14.0,7.0,12.0,2.0,18.0,1.0,11.0,5.0,11.0,6.0,17.0,3.0,14.0,1.0,8.0,8.0,13.0,6.0,6.0,13.0,3.0,19.0,7.0,11.0,5.0,14.0,8.0,16.0,8.0,4.0,18.0,4.0,13.0,6.0,16.0,2.0,12.0,5.0,15.0,14.0,6.0,17.0,9.0,16.0,1.0,4.0,12.0,6.0,10.0,2.0,14.0,8.0,16.0,7.0,5.0,13.0,4.0,3.0,17.0,6.0,8.0,2.0,8.0,16.0,7.0,5.0,19.0,6.0,10.0,8.0,15.0,8.0,12.0,2.0,16.0,7.0,18.0,5.0,9.0,11.0,19.0,4.0,14.0,16.0,5.0,20.0,6.0,11.0,19.0,4.0,7.0,1.0,15.0,3.0,6.0,2.0,10.0,3.0,20.0,8.0,2.0,12.0,5.0,4.0,14.0,2.0,9.0,3.0,18.0,9.0,1.0,7.0,11.0,16.0,8.0,8.0,12.0,21.0,5.0,2.0,6.0,23.0,13.0,19.0,2.0,8.0,12.0,21.0,10.0,21.0,28.0,3.0,10.0,11.0,23.0,27.0,10.0,5.0,20.0,7.0,12.0,9.0,14.0,8.0,25.0,10.0,6.0,1.0,8.0,4.0,1.0,5.0,25.0,7.0,11.0,1.0,22.0,0.0,28.0,4.0,19.0,16.0,4.0,17.0,25.0,8.0,18.0,4.0,13.0,23.0,0.0,28.0,16.0,22.0,4.0,14.0,6.0,14.0,20.0,23.0,15.0,23.0,8.0,25.0,5.0,9.0,13.0,10.0,2.0,14.0,5.0,4.0,23.0,10.0,19.0,9.0,2.0,21.0,9.0,4.0,19.0,11.0,0.0,22.0,10.0,8.0,20.0,10.0,5.0,13.0,20.0,25.0,1.0,26.0,19.0,15.0,6.0,10.0,21.0,23.0,4.0,14.0,24.0,15.0,8.0,4.0,25.0,4.0,6.0,10.0,18.0,8.0,25.0,3.0,0.0,24.0,12.0,5.0,16.0,22.0,13.0,26.0,7.0,4.0,5.0,2.0,22.0,9.0,11.0,19.0,4.0,6.0,19.0,10.0,21.0,1.0,14.0,17.0,6.0,28.0,6.0,4.0,13.0,24.0,20.0,4.0,21.0,13.0,26.0,5.0,20.0,8.0,6.0,13.0,27.0,6.0,24.0,4.0,15.0,22.0,8.0,12.0,28.0,1.0,22.0,10.0,7.0,18.0,10.0,11.0,3.0,25.0,3.0,6.0,9.0,23.0,9.0,27.0,4.0,1.0,2.0,8.0,4.0,15.0,9.0,3.0,11.0,8.0,2.0,20.0,5.0,7.0,3.0,13.0,6.0,2.0,18.0,8.0,1.0,10.0,4.0,16.0,9.0,1.0,7.0,2.0,11.0,4.0,6.0,19.0,12.0,4.0,5.0,21.0,10.0,18.0,9.0,28.0,1.0,20.0,8.0,3.0,19.0,11.0,0.0,23.0,11.0,8.0,20.0,10.0,4.0,13.0,20.0,24.0,1.0,27.0,19.0,15.0,6.0,9.0,21.0,23.0,4.0,14.0,25.0,15.0,8.0,4.0,25.0,4.0,6.0,10.0,18.0,8.0,25.0,3.0,24.0,12.0,5.0,16.0,22.0,13.0,26.0,7.0,4.0,5.0,2.0,22.0,9.0,11.0,19.0,3.0,9.0,18.0,9.0,22.0,7.0,28.0,2.0,0.0,23.0,14.0,6.0,17.0,21.0,13.0,27.0,6.0,3.0,5.0,1.0,21.0,9.0,11.0,3.0,4.0,23.0,14.0,19.0,9.0,3.0,22.0,15.0,6.0,14.0,21.0,8.0,21.0,11.0,16.0,4.0,9.0,11.0,5.0,3.0,21.0,16.0,7.0,19.0,5.0,24.0,13.0,20.0,9.0,4.0,21.0,5.0,13.0,28.0,7.0,13.0,22.0,18.0,4.0,26.0,12.0,18.0,9.0,2.0,23.0,16.0,6.0,15.0,22.0,1.0,5.0,2.0,6.0,3.0,12.0,8.0,1.0,7.0,4.0,16.0,12.0,4.0,5.0,4.0,2.0,18.0,9.0,0.0,10.0,4.0,16.0,2.0,11.0,1.0,4.0,13.0,2.0,7.0,2.0,1.0,12.0,4.0,8.0,5.0,3.0,10.0,2.0,7.0,1.0,5.0,15.0,1.0,9.0,4.0,14.0,3.0,2.0,11.0,5.0,6.0,1.0,13.0,1.0,10.0,2.0,12.0,3.0,2.0,14.0,3.0,11.0,4.0,3.0,13.0,2.0,7.0,1.0,15.0,4.0,1.0,12.0,1.0,9.0,14.0,3.0,6.0,13.0,8.0,1.0,5.0,12.0,4.0,2.0,11.0,1.0,13.0,4.0,14.0,3.0,9.0,15.0,4.0,1.0,5.0,8.0,2.0,12.0,6.0,2.0,10.0,4.0,18.0,1.0,11.0,6.0,1.0,16.0,3.0,8.0,5.0,3.0,13.0,2.0,10.0,4.0,3.0,9.0,15.0,4.0,1.0,5.0,8.0,2.0,12.0,6.0,2.0,10.0,4.0,18.0,1.0,11.0,6.0,1.0,16.0,3.0,8.0,5.0,3.0,13.0,2.0,7.0,16.0,4.0,1.0,8.0,3.0,14.0,2.0,11.0,19.0,12.0,7.0,1.0,3.0,9.0,6.0,2.0,5.0,3.0,12.0,2.0,1.0,7.0,18.0,2.0,15.0,8.0,1.0,10.0,4.0,22.0,2.0,13.0,9.0,1.0,5.0,11.0,6.0,2.0,6.0,4.0,13.0,2.0,1.0,8.0,19.0,2.0,16.0,9.0,1.0,11.0,5.0,23.0,2.0,14.0,10.0,1.0,17.0,6.0,12.0,7.0,3.0,16.0,8.0,1.0,5.0,13.0,2.0,15.0,8.0,1.0,12.0,4.0,24.0,2.0,15.0,11.0,1.0,19.0,6.0,13.0,8.0,3.0,18.0,3.0,16.0,9.0,1.0,7.0,17.0,5.0,23.0,2.0,19.0,1.0,20.0,3.0,15.0,8.0,1.0,4.0,22.0,6.0,8.0,1.0,18.0,6.0,2.0,4.0,10.0,1.0,5.0,2.0,12.0,1.0,4.0,1.0,14.0,9.0,2.0,4.0,3.0,8.0,2.0,13.0,7.0,2.0,4.0,1.0,6.0,2.0,7.0,1.0,12.0,10.0,3.0,8.0,3.0,2.0,2.0,5.0,1.0,7.0,2.0,1.0,6.0,2.0,7.0,2.0,3.0,9.0,4.0,2.0,13.0,8.0,2.0,5.0,3.0,1.0,6.0,2.0,11.0,1.0,14.0,2.0,1.0,4.0,1.0,8.0,3.0,5.0,12.0,1.0,7.0,2.0,3.0,10.0,1.0,2.0,9.0,4.0,6.0,13.0,2.0,8.0,3.0,4.0,11.0,2.0,9.0,5.0,7.0,12.0,9.0,1.0,6.0,4.0,10.0,0.0,11.0,3.0,7.0,6.0,0.0,21.0,8.0,4.0,6.0,12.0,3.0,9.0,2.0,4.0,1.0,12.0,4.0,8.0,10.0,2.0,18.0,3.0,7.0,0.0,6.0,3.0,9.0,0.0,12.0,14.0,1.0,4.0,3.0,10.0,2.0,7.0,3.0,11.0,1.0,5.0,8.0,19.0,4.0,9.0,0.0,6.0,3.0,10.0,0.0,13.0,14.0,1.0,4.0,3.0,11.0,2.0,8.0,3.0,11.0,1.0,5.0,8.0,2.0,19.0,4.0,9.0,10.0,13.0,14.0,1.0,4.0,3.0,11.0,8.0,7.0,7.0,9.0,3.0,13.0,2.0,6.0,4.0,1.0,5.0,11.0,3.0,7.0,0.0,14.0,16.0,2.0,8.0,4.0,9.0,3.0,12.0,1.0,5.0,3.0,9.0,1.0,5.0,11.0,2.0,7.0,4.0,0.0,6.0,12.0,3.0,8.0,1.0,13.0,15.0,1.0,3.0,7.0,0.0,14.0,16.0,2.0,12.0,1.0,5.0,11.0,3.0,8.0,2.0,6.0,11.0,7.0,8.0,2.0,6.0,11.0,3.0,9.0,1.0,5.0,11.0,9.0,3.0,7.0,12.0,4.0,8.0,2.0,5.0,11.0,3.0,8.0,5.0,0.0,6.0,12.0,9.0,4.0,13.0,15.0,1.0,9.0,3.0,7.0,14.0,16.0,2.0,13.0,5.0,12.0,3.0,2.0,14.0,7.0,3.0,10.0,8.0,2.0,12.0,2.0,8.0,7.0,1.0,12.0,4.0,5.0,3.0,15.0,2.0,13.0,1.0,18.0,4.0,6.0,3.0,10.0,2.0,11.0,4.0,17.0,3.0,9.0,1.0,14.0,5.0,3.0,6.0,2.0,12.0,2.0,16.0,4.0,10.0,1.0,8.0,7.0,1.0,13.0,5.0,3.0,2.0,18.0,2.0,6.0,12.0,3.0,7.0,1.0,11.0,3.0,5.0,1.0,13.0,4.0,15.0,8.0,1.0,16.0,2.0,3.0,1.0,10.0,5.0,3.0,12.0,2.0,3.0,14.0,10.0,1.0,6.0,2.0,18.0,8.0,12.0,3.0,7.0,4.0,16.0,2.0,3.0,11.0,6.0,15.0,5.0,19.0,3.0,6.0,14.0,8.0,1.0,13.0,2.0,7.0,4.0,18.0,3.0,19.0,3.0,4.0,13.0,1.0,12.0,9.0,1.0,14.0,2.0,8.0,4.0,19.0,6.0,17.0,11.0,2.0,15.0,4.0,5.0,16.0,1.0,10.0,7.0,3.0,14.0,2.0,18.0,7.0,1.0,12.0,3.0,8.0,18.0,6.0,5.0,15.0,12.0,3.0,16.0,5.0,6.0,17.0,11.0,8.0,4.0,15.0,19.0,8.0,1.0,3.0,7.0,4.0,19.0,7.0,20.0,3.0,5.0,16.0,1.0,13.0,9.0,1.0,14.0,2.0,7.0,4.0,19.0,6.0,20.0,3.0,4.0,14.0,1.0,13.0,10.0,1.0,15.0,2.0,8.0,7.0,5.0],\"type\":\"box\",\"xaxis\":\"x2\",\"yaxis\":\"y2\"},{\"marker\":{\"color\":\"lightblue\"},\"name\":\"Salary\",\"orientation\":\"h\",\"x\":[90000.0,65000.0,150000.0,60000.0,200000.0,55000.0,120000.0,80000.0,45000.0,110000.0,75000.0,140000.0,65000.0,130000.0,40000.0,125000.0,90000.0,115000.0,35000.0,180000.0,80000.0,190000.0,50000.0,60000.0,140000.0,45000.0,110000.0,40000.0,140000.0,90000.0,250000.0,55000.0,75000.0,65000.0,170000.0,45000.0,60000.0,115000.0,40000.0,160000.0,80000.0,190000.0,60000.0,45000.0,130000.0,40000.0,75000.0,180000.0,120000.0,35000.0,130000.0,85000.0,60000.0,200000.0,50000.0,95000.0,65000.0,140000.0,55000.0,105000.0,170000.0,50000.0,80000.0,180000.0,35000.0,90000.0,120000.0,45000.0,90000.0,150000.0,65000.0,70000.0,190000.0,40000.0,120000.0,95000.0,160000.0,100000.0,180000.0,55000.0,70000.0,80000.0,30000.0,250000.0,40000.0,95000.0,45000.0,80000.0,135000.0,55000.0,120000.0,40000.0,105000.0,170000.0,75000.0,65000.0,160000.0,35000.0,90000.0,110000.0,45000.0,95000.0,150000.0,50000.0,80000.0,220000.0,50000.0,60000.0,100000.0,40000.0,110000.0,95000.0,130000.0,90000.0,35000.0,95000.0,65000.0,170000.0,45000.0,120000.0,100000.0,180000.0,50000.0,80000.0,140000.0,40000.0,95000.0,110000.0,50000.0,105000.0,160000.0,45000.0,100000.0,160000.0,35000.0,55000.0,140000.0,50000.0,60000.0,120000.0,40000.0,110000.0,50000.0,135000.0,40000.0,90000.0,150000.0,60000.0,80000.0,175000.0,45000.0,120000.0,140000.0,35000.0,95000.0,110000.0,50000.0,115000.0,185000.0,40000.0,90000.0,175000.0,45000.0,80000.0,120000.0,35000.0,110000.0,150000.0,50000.0,105000.0,180000.0,40000.0,140000.0,45000.0,85000.0,140000.0,50000.0,80000.0,170000.0,40000.0,105000.0,145000.0,40000.0,85000.0,130000.0,95000.0,100000.0,180000.0,35000.0,95000.0,170000.0,45000.0,95000.0,120000.0,90000.0,155000.0,55000.0,110000.0,180000.0,45000.0,130000.0,45000.0,90000.0,160000.0,50000.0,120000.0,170000.0,40000.0,110000.0,150000.0,40000.0,85000.0,130000.0,100000.0,95000.0,180000.0,35000.0,100000.0,170000.0,45000.0,100000.0,140000.0,40000.0,105000.0,160000.0,70000.0,120000.0,190000.0,45000.0,120000.0,50000.0,85000.0,140000.0,45000.0,100000.0,140000.0,70000.0,120000.0,160000.0,40000.0,120000.0,150000.0,70000.0,95000.0,180000.0,50000.0,95000.0,170000.0,350.0,120000.0,50000.0,110000.0,40000.0,95000.0,140000.0,60000.0,110000.0,150000.0,60000.0,90000.0,180000.0,40000.0,120000.0,160000.0,70000.0,95000.0,180000.0,50000.0,170000.0,35000.0,100000.0,150000.0,60000.0,130000.0,65000.0,110000.0,180000.0,40000.0,90000.0,140000.0,60000.0,130000.0,160000.0,40000.0,100000.0,180000.0,55000.0,120000.0,70000.0,95000.0,120000.0,80000.0,40000.0,120000.0,160000.0,65000.0,130000.0,180000.0,40000.0,100000.0,150000.0,55000.0,180000.0,50000.0,130000.0,160000.0,60000.0,95000.0,170000.0,40000.0,90000.0,150000.0,70000.0,90000.0,170000.0,50000.0,150000.0,160000.0,180000.0,35000.0,110000.0,160000.0,55000.0,170000.0,160000.0,125000.0,120000.0,110000.0,180000.0,140000.0,170000.0,100000.0,190000.0,155000.0,130000.0,145000.0,115000.0,185000.0,125000.0,120000.0,110000.0,180000.0,140000.0,130000.0,180000.0,190000.0,150000.0,90000.0,195000.0,160000.0,198000.0,110000.0,185000.0,140000.0,196000.0,95000.0,193000.0,175000.0,160000.0,180000.0,195000.0,160000.0,198000.0,130000.0,185000.0,140000.0,196000.0,110000.0,160000.0,195000.0,125000.0,175000.0,190000.0,95000.0,195000.0,90000.0,170000.0,135000.0,115000.0,150000.0,125000.0,180000.0,195000.0,170000.0,196000.0,92000.0,195000.0,165000.0,135000.0,196000.0,92000.0,135000.0,180000.0,195000.0,165000.0,198000.0,150000.0,162000.0,175000.0,197000.0,142000.0,182000.0,185000.0,170000.0,160000.0,180000.0,150000.0,140000.0,100000.0,190000.0,120000.0,170000.0,190000.0,150000.0,120000.0,170000.0,130000.0,95000.0,195000.0,100000.0,150000.0,150000.0,195000.0,170000.0,180000.0,190000.0,100000.0,180000.0,120000.0,195000.0,160000.0,100000.0,190000.0,170000.0,185000.0,130000.0,190000.0,150000.0,150000.0,195000.0,110000.0,180000.0,185000.0,130000.0,190000.0,155000.0,195000.0,90000.0,185000.0,120000.0,180000.0,125000.0,175000.0,190000.0,110000.0,195000.0,100000.0,60000.0,155000.0,175000.0,180000.0,95000.0,165000.0,145000.0,195000.0,75000.0,90000.0,155000.0,115000.0,170000.0,190000.0,115000.0,180000.0,195000.0,140000.0,70000.0,170000.0,185000.0,140000.0,185000.0,185000.0,180000.0,175000.0,70000.0,60000.0,170000.0,165000.0,55000.0,190000.0,105000.0,130000.0,185000.0,60000.0,195000.0,60000.0,150000.0,180000.0,125000.0,185000.0,90000.0,80000.0,85000.0,190000.0,160000.0,195000.0,190000.0,95000.0,55000.0,185000.0,120000.0,195000.0,175000.0,75000.0,200000.0,160000.0,175000.0,180000.0,120000.0,185000.0,195000.0,170000.0,55000.0,130000.0,180000.0,145000.0,170000.0,155000.0,125000.0,180000.0,95000.0,170000.0,175000.0,80000.0,195000.0,155000.0,125000.0,110000.0,130000.0,190000.0,150000.0,140000.0,195000.0,55000.0,190000.0,130000.0,130000.0,140000.0,70000.0,170000.0,180000.0,70000.0,55000.0,180000.0,70000.0,165000.0,185000.0,140000.0,80000.0,90000.0,170000.0,170000.0,155000.0,195000.0,70000.0,140000.0,190000.0,130000.0,165000.0,55000.0,165000.0,195000.0,85000.0,200000.0,140000.0,65000.0,190000.0,120000.0,200000.0,190000.0,65000.0,130000.0,120000.0,55000.0,160000.0,140000.0,135000.0,55000.0,95000.0,170000.0,75000.0,210000.0,135000.0,190000.0,165000.0,120000.0,160000.0,55000.0,120000.0,90000.0,180000.0,130000.0,170000.0,70000.0,210000.0,55000.0,165000.0,105000.0,160000.0,110000.0,195000.0,85000.0,180000.0,55000.0,140000.0,145000.0,185000.0,110000.0,115000.0,170000.0,80000.0,200000.0,130000.0,155000.0,105000.0,190000.0,140000.0,185000.0,145000.0,90000.0,195000.0,95000.0,170000.0,115000.0,185000.0,65000.0,160000.0,100000.0,180000.0,190000.0,115000.0,195000.0,150000.0,185000.0,550.0,90000.0,160000.0,115000.0,150000.0,65000.0,190000.0,140000.0,185000.0,130000.0,105000.0,170000.0,90000.0,80000.0,195000.0,115000.0,135000.0,65000.0,140000.0,185000.0,130000.0,105000.0,200000.0,110000.0,150000.0,130000.0,180000.0,140000.0,160000.0,55000.0,190000.0,120000.0,200000.0,100000.0,150000.0,170000.0,210000.0,90000.0,180000.0,185000.0,105000.0,210000.0,95000.0,170000.0,200000.0,75000.0,95000.0,50000.0,180000.0,65000.0,120000.0,60000.0,150000.0,70000.0,220000.0,100000.0,55000.0,170000.0,90000.0,80000.0,180000.0,60000.0,120000.0,70000.0,210000.0,140000.0,50000.0,110000.0,160000.0,200000.0,100000.0,122485.0,169159.0,187081.0,78354.0,90249.0,132720.0,161568.0,127346.0,120177.0,69032.0,101332.0,166375.0,185119.0,149217.0,166512.0,186963.0,75072.0,163398.0,103947.0,175966.0,190004.0,152039.0,76742.0,139398.0,95845.0,160976.0,126753.0,161393.0,139817.0,181714.0,114776.0,105725.0,52731.0,106492.0,73895.0,119836.0,99747.0,168287.0,115920.0,128078.0,51265.0,165919.0,55538.0,193964.0,104702.0,172955.0,138032.0,82683.0,155414.0,154207.0,107895.0,148446.0,102859.0,138662.0,181699.0,51832.0,188484.0,138286.0,181132.0,73938.0,119224.0,101186.0,142360.0,151315.0,181021.0,134641.0,173851.0,104127.0,178859.0,98568.0,104661.0,134858.0,94502.0,62852.0,139095.0,106278.0,90452.0,168304.0,126593.0,152203.0,130275.0,62807.0,174305.0,133326.0,75656.0,155944.0,137775.0,51831.0,182237.0,151901.0,100052.0,167207.0,112439.0,84407.0,139413.0,143084.0,192344.0,106132.0,184816.0,150248.0,170995.0,88035.0,119419.0,173582.0,174436.0,71699.0,163558.0,166828.0,144496.0,122581.0,79767.0,177177.0,89843.0,113563.0,128712.0,161621.0,121454.0,179987.0,72649.0,52612.0,184006.0,131960.0,102465.0,149748.0,171036.0,146351.0,185462.0,107718.0,90944.0,100425.0,63901.0,181902.0,136533.0,136285.0,176643.0,70022.0,99363.0,152944.0,123386.0,168906.0,47898.0,135853.0,149198.0,106662.0,186610.0,89995.0,85825.0,143814.0,174726.0,150534.0,68732.0,187951.0,137336.0,191159.0,102868.0,154281.0,111535.0,107906.0,143885.0,180958.0,108607.0,178284.0,75969.0,143705.0,174324.0,123781.0,141735.0,187120.0,61095.0,179045.0,130355.0,103282.0,157872.0,117314.0,129686.0,68611.0,177913.0,68472.0,113065.0,125091.0,172925.0,126916.0,183417.0,76898.0,579.0,65000.0,120000.0,90000.0,190000.0,140000.0,75000.0,160000.0,130000.0,60000.0,220000.0,80000.0,130000.0,65000.0,170000.0,110000.0,50000.0,210000.0,100000.0,50000.0,160000.0,70000.0,190000.0,140000.0,45000.0,120000.0,60000.0,150000.0,70000.0,103579.0,163780.0,137878.0,92438.0,84181.0,174821.0,126520.0,152168.0,131547.0,192292.0,52807.0,174938.0,124071.0,73640.0,156486.0,138859.0,52831.0,182392.0,151078.0,100679.0,167924.0,113334.0,77606.0,140010.0,142421.0,192756.0,106686.0,186794.0,150729.0,171652.0,88552.0,119918.0,174985.0,174336.0,72389.0,163978.0,166958.0,145052.0,122970.0,80247.0,177862.0,91062.0,114290.0,128999.0,162454.0,122354.0,179756.0,73218.0,184480.0,132442.0,102828.0,150301.0,171468.0,147326.0,185982.0,108267.0,91397.0,100867.0,64182.0,182506.0,136986.0,136662.0,177347.0,70397.0,146075.0,155795.0,132638.0,178684.0,106218.0,191239.0,65840.0,52779.0,185038.0,136449.0,110707.0,151670.0,167015.0,146508.0,190596.0,104378.0,70216.0,101733.0,55935.0,180367.0,135596.0,136062.0,91397.0,82944.0,188288.0,141090.0,152726.0,124141.0,67556.0,182768.0,148727.0,91903.0,147708.0,163209.0,120288.0,170226.0,134979.0,137489.0,83577.0,117904.0,134482.0,100151.0,88678.0,181285.0,154990.0,108204.0,175684.0,77766.0,192211.0,144647.0,162231.0,121120.0,79652.0,177002.0,87584.0,131860.0,182013.0,108799.0,135378.0,183530.0,150901.0,82697.0,194638.0,130356.0,152560.0,121432.0,63789.0,183690.0,151310.0,100358.0,148437.0,168691.0,50000.0,100000.0,60000.0,90000.0,70000.0,170000.0,130000.0,50000.0,120000.0,80000.0,200000.0,170000.0,80000.0,80000.0,60000.0,50000.0,160000.0,120000.0,40000.0,100000.0,75000.0,140000.0,50000.0,110000.0,45000.0,55000.0,130000.0,50000.0,80000.0,45000.0,32000.0,120000.0,65000.0,95000.0,80000.0,38000.0,110000.0,45000.0,89000.0,32000.0,70000.0,150000.0,40000.0,105000.0,65000.0,140000.0,50000.0,35000.0,115000.0,70000.0,80000.0,30000.0,135000.0,40000.0,105000.0,35000.0,120000.0,55000.0,45000.0,140000.0,55000.0,115000.0,70000.0,38000.0,135000.0,45000.0,85000.0,32000.0,150000.0,65000.0,32000.0,120000.0,40000.0,95000.0,140000.0,55000.0,80000.0,135000.0,95000.0,32000.0,70000.0,120000.0,70000.0,33000.0,115000.0,40000.0,135000.0,65000.0,140000.0,60000.0,100000.0,150000.0,55000.0,30000.0,70000.0,90000.0,40000.0,130000.0,75000.0,35000.0,110000.0,65000.0,180000.0,35000.0,120000.0,75000.0,30000.0,160000.0,60000.0,85000.0,70000.0,50000.0,140000.0,35000.0,110000.0,65000.0,60000.0,100000.0,150000.0,55000.0,30000.0,70000.0,90000.0,40000.0,130000.0,75000.0,35000.0,110000.0,65000.0,180000.0,35000.0,120000.0,75000.0,30000.0,160000.0,60000.0,85000.0,70000.0,50000.0,140000.0,55000.0,90000.0,160000.0,60000.0,25000.0,100000.0,45000.0,140000.0,30000.0,120000.0,190000.0,130000.0,85000.0,25000.0,60000.0,100000.0,75000.0,30000.0,80000.0,60000.0,130000.0,45000.0,25000.0,90000.0,170000.0,40000.0,150000.0,95000.0,25000.0,110000.0,70000.0,220000.0,35000.0,140000.0,110000.0,25000.0,80000.0,120000.0,90000.0,45000.0,85000.0,62000.0,138000.0,47000.0,26000.0,95000.0,174000.0,41000.0,162000.0,99000.0,26000.0,117000.0,75000.0,225000.0,36000.0,146000.0,113000.0,26000.0,168000.0,85000.0,122000.0,96000.0,49000.0,162000.0,95000.0,26000.0,68000.0,127000.0,47000.0,155000.0,92000.0,26000.0,125000.0,71000.0,240000.0,36000.0,152000.0,119000.0,26000.0,190000.0,85000.0,131000.0,101000.0,49000.0,182000.0,62000.0,137000.0,112000.0,25000.0,91000.0,179000.0,74000.0,228000.0,37000.0,193000.0,25000.0,204000.0,61000.0,157000.0,92000.0,52000.0,58000.0,219000.0,77000.0,104000.0,25000.0,183000.0,95000.0,45000.0,70000.0,110000.0,35000.0,60000.0,50000.0,120000.0,32000.0,65000.0,35000.0,130000.0,95000.0,43000.0,50000.0,60000.0,80000.0,48000.0,125000.0,85000.0,42000.0,70000.0,32000.0,80000.0,42000.0,90000.0,40000.0,110000.0,105000.0,50000.0,95000.0,60000.0,40000.0,55000.0,70000.0,32000.0,90000.0,50000.0,32000.0,80000.0,45000.0,65000.0,50000.0,45000.0,95000.0,65000.0,38000.0,125000.0,90000.0,43000.0,60000.0,60000.0,35000.0,95000.0,42000.0,100000.0,32000.0,130000.0,43000.0,32000.0,500.0,45000.0,120000.0,55000.0,70000.0,140000.0,30000.0,100000.0,50000.0,55000.0,130000.0,45000.0,48000.0,125000.0,57000.0,72000.0,145000.0,31000.0,105000.0,52000.0,57000.0,135000.0,48000.0,125000.0,85000.0,110000.0,170000.0,140000.0,30000.0,95000.0,80000.0,155000.0,25000.0,160000.0,65000.0,120000.0,105000.0,25000.0,250000.0,120000.0,80000.0,100000.0,170000.0,50000.0,140000.0,55000.0,80000.0,60000.0,150000.0,80000.0,120000.0,130000.0,50000.0,180000.0,60000.0,110000.0,25000.0,100000.0,55000.0,140000.0,25000.0,150000.0,170000.0,55000.0,65000.0,60000.0,150000.0,50000.0,120000.0,85000.0,160000.0,55000.0,100000.0,120000.0,185000.0,65000.0,130000.0,25000.0,100000.0,55000.0,150000.0,25000.0,160000.0,170000.0,55000.0,65000.0,60000.0,160000.0,50000.0,120000.0,85000.0,160000.0,55000.0,100000.0,120000.0,50000.0,185000.0,65000.0,130000.0,150000.0,160000.0,170000.0,55000.0,65000.0,60000.0,160000.0,120000.0,100000.0,120000.0,130000.0,35000.0,160000.0,50000.0,100000.0,80000.0,60000.0,90000.0,170000.0,60000.0,120000.0,25000.0,180000.0,200000.0,50000.0,140000.0,70000.0,130000.0,80000.0,160000.0,55000.0,85000.0,60000.0,120000.0,45000.0,80000.0,150000.0,65000.0,100000.0,90000.0,40000.0,110000.0,170000.0,75000.0,120000.0,30000.0,180000.0,200000.0,50000.0,65000.0,110000.0,28000.0,190000.0,210000.0,55000.0,170000.0,60000.0,90000.0,160000.0,75000.0,120000.0,65000.0,100000.0,150000.0,120000.0,120000.0,65000.0,100000.0,150000.0,65000.0,120000.0,45000.0,80000.0,150000.0,125000.0,70000.0,110000.0,160000.0,75000.0,120000.0,50000.0,85000.0,155000.0,70000.0,115000.0,95000.0,40000.0,115000.0,175000.0,135000.0,75000.0,185000.0,210000.0,45000.0,145000.0,70000.0,120000.0,195000.0,215000.0,55000.0,185000.0,95000.0,170000.0,65000.0,75000.0,185000.0,120000.0,60000.0,145000.0,135000.0,70000.0,175000.0,45000.0,80000.0,90000.0,35000.0,120000.0,60000.0,70000.0,40000.0,150000.0,35000.0,130000.0,35000.0,180000.0,60000.0,75000.0,50000.0,100000.0,40000.0,110000.0,55000.0,170000.0,40000.0,95000.0,35000.0,140000.0,70000.0,50000.0,75000.0,40000.0,120000.0,40000.0,160000.0,55000.0,100000.0,35000.0,80000.0,90000.0,35000.0,130000.0,70000.0,40000.0,35000.0,180000.0,40000.0,75000.0,120000.0,50000.0,90000.0,35000.0,110000.0,45000.0,70000.0,30000.0,130000.0,60000.0,150000.0,80000.0,35000.0,160000.0,40000.0,40000.0,35000.0,100000.0,70000.0,50000.0,120000.0,40000.0,50000.0,140000.0,100000.0,30000.0,75000.0,40000.0,180000.0,80000.0,120000.0,45000.0,90000.0,55000.0,160000.0,40000.0,40000.0,110000.0,75000.0,150000.0,70000.0,190000.0,40000.0,75000.0,140000.0,80000.0,35000.0,130000.0,40000.0,90000.0,55000.0,180000.0,45000.0,190000.0,50000.0,55000.0,130000.0,35000.0,120000.0,95000.0,35000.0,140000.0,40000.0,80000.0,55000.0,190000.0,75000.0,170000.0,110000.0,40000.0,150000.0,55000.0,70000.0,160000.0,35000.0,100000.0,90000.0,50000.0,140000.0,40000.0,180000.0,90000.0,35000.0,120000.0,45000.0,80000.0,180000.0,75000.0,70000.0,150000.0,120000.0,45000.0,160000.0,70000.0,75000.0,170000.0,110000.0,80000.0,55000.0,150000.0,190000.0,80000.0,35000.0,45000.0,90000.0,55000.0,190000.0,90000.0,200000.0,40000.0,70000.0,160000.0,35000.0,130000.0,95000.0,35000.0,140000.0,40000.0,90000.0,55000.0,190000.0,75000.0,200000.0,50000.0,55000.0,140000.0,35000.0,130000.0,100000.0,35000.0,150000.0,40000.0,80000.0,90000.0,70000.0],\"type\":\"box\",\"xaxis\":\"x3\",\"yaxis\":\"y3\"}],                        {\"template\":{\"data\":{\"histogram2dcontour\":[{\"type\":\"histogram2dcontour\",\"colorbar\":{\"outlinewidth\":0,\"ticks\":\"\"},\"colorscale\":[[0.0,\"#0d0887\"],[0.1111111111111111,\"#46039f\"],[0.2222222222222222,\"#7201a8\"],[0.3333333333333333,\"#9c179e\"],[0.4444444444444444,\"#bd3786\"],[0.5555555555555556,\"#d8576b\"],[0.6666666666666666,\"#ed7953\"],[0.7777777777777778,\"#fb9f3a\"],[0.8888888888888888,\"#fdca26\"],[1.0,\"#f0f921\"]]}],\"choropleth\":[{\"type\":\"choropleth\",\"colorbar\":{\"outlinewidth\":0,\"ticks\":\"\"}}],\"histogram2d\":[{\"type\":\"histogram2d\",\"colorbar\":{\"outlinewidth\":0,\"ticks\":\"\"},\"colorscale\":[[0.0,\"#0d0887\"],[0.1111111111111111,\"#46039f\"],[0.2222222222222222,\"#7201a8\"],[0.3333333333333333,\"#9c179e\"],[0.4444444444444444,\"#bd3786\"],[0.5555555555555556,\"#d8576b\"],[0.6666666666666666,\"#ed7953\"],[0.7777777777777778,\"#fb9f3a\"],[0.8888888888888888,\"#fdca26\"],[1.0,\"#f0f921\"]]}],\"heatmap\":[{\"type\":\"heatmap\",\"colorbar\":{\"outlinewidth\":0,\"ticks\":\"\"},\"colorscale\":[[0.0,\"#0d0887\"],[0.1111111111111111,\"#46039f\"],[0.2222222222222222,\"#7201a8\"],[0.3333333333333333,\"#9c179e\"],[0.4444444444444444,\"#bd3786\"],[0.5555555555555556,\"#d8576b\"],[0.6666666666666666,\"#ed7953\"],[0.7777777777777778,\"#fb9f3a\"],[0.8888888888888888,\"#fdca26\"],[1.0,\"#f0f921\"]]}],\"heatmapgl\":[{\"type\":\"heatmapgl\",\"colorbar\":{\"outlinewidth\":0,\"ticks\":\"\"},\"colorscale\":[[0.0,\"#0d0887\"],[0.1111111111111111,\"#46039f\"],[0.2222222222222222,\"#7201a8\"],[0.3333333333333333,\"#9c179e\"],[0.4444444444444444,\"#bd3786\"],[0.5555555555555556,\"#d8576b\"],[0.6666666666666666,\"#ed7953\"],[0.7777777777777778,\"#fb9f3a\"],[0.8888888888888888,\"#fdca26\"],[1.0,\"#f0f921\"]]}],\"contourcarpet\":[{\"type\":\"contourcarpet\",\"colorbar\":{\"outlinewidth\":0,\"ticks\":\"\"}}],\"contour\":[{\"type\":\"contour\",\"colorbar\":{\"outlinewidth\":0,\"ticks\":\"\"},\"colorscale\":[[0.0,\"#0d0887\"],[0.1111111111111111,\"#46039f\"],[0.2222222222222222,\"#7201a8\"],[0.3333333333333333,\"#9c179e\"],[0.4444444444444444,\"#bd3786\"],[0.5555555555555556,\"#d8576b\"],[0.6666666666666666,\"#ed7953\"],[0.7777777777777778,\"#fb9f3a\"],[0.8888888888888888,\"#fdca26\"],[1.0,\"#f0f921\"]]}],\"surface\":[{\"type\":\"surface\",\"colorbar\":{\"outlinewidth\":0,\"ticks\":\"\"},\"colorscale\":[[0.0,\"#0d0887\"],[0.1111111111111111,\"#46039f\"],[0.2222222222222222,\"#7201a8\"],[0.3333333333333333,\"#9c179e\"],[0.4444444444444444,\"#bd3786\"],[0.5555555555555556,\"#d8576b\"],[0.6666666666666666,\"#ed7953\"],[0.7777777777777778,\"#fb9f3a\"],[0.8888888888888888,\"#fdca26\"],[1.0,\"#f0f921\"]]}],\"mesh3d\":[{\"type\":\"mesh3d\",\"colorbar\":{\"outlinewidth\":0,\"ticks\":\"\"}}],\"scatter\":[{\"fillpattern\":{\"fillmode\":\"overlay\",\"size\":10,\"solidity\":0.2},\"type\":\"scatter\"}],\"parcoords\":[{\"type\":\"parcoords\",\"line\":{\"colorbar\":{\"outlinewidth\":0,\"ticks\":\"\"}}}],\"scatterpolargl\":[{\"type\":\"scatterpolargl\",\"marker\":{\"colorbar\":{\"outlinewidth\":0,\"ticks\":\"\"}}}],\"bar\":[{\"error_x\":{\"color\":\"#2a3f5f\"},\"error_y\":{\"color\":\"#2a3f5f\"},\"marker\":{\"line\":{\"color\":\"#E5ECF6\",\"width\":0.5},\"pattern\":{\"fillmode\":\"overlay\",\"size\":10,\"solidity\":0.2}},\"type\":\"bar\"}],\"scattergeo\":[{\"type\":\"scattergeo\",\"marker\":{\"colorbar\":{\"outlinewidth\":0,\"ticks\":\"\"}}}],\"scatterpolar\":[{\"type\":\"scatterpolar\",\"marker\":{\"colorbar\":{\"outlinewidth\":0,\"ticks\":\"\"}}}],\"histogram\":[{\"marker\":{\"pattern\":{\"fillmode\":\"overlay\",\"size\":10,\"solidity\":0.2}},\"type\":\"histogram\"}],\"scattergl\":[{\"type\":\"scattergl\",\"marker\":{\"colorbar\":{\"outlinewidth\":0,\"ticks\":\"\"}}}],\"scatter3d\":[{\"type\":\"scatter3d\",\"line\":{\"colorbar\":{\"outlinewidth\":0,\"ticks\":\"\"}},\"marker\":{\"colorbar\":{\"outlinewidth\":0,\"ticks\":\"\"}}}],\"scattermapbox\":[{\"type\":\"scattermapbox\",\"marker\":{\"colorbar\":{\"outlinewidth\":0,\"ticks\":\"\"}}}],\"scatterternary\":[{\"type\":\"scatterternary\",\"marker\":{\"colorbar\":{\"outlinewidth\":0,\"ticks\":\"\"}}}],\"scattercarpet\":[{\"type\":\"scattercarpet\",\"marker\":{\"colorbar\":{\"outlinewidth\":0,\"ticks\":\"\"}}}],\"carpet\":[{\"aaxis\":{\"endlinecolor\":\"#2a3f5f\",\"gridcolor\":\"white\",\"linecolor\":\"white\",\"minorgridcolor\":\"white\",\"startlinecolor\":\"#2a3f5f\"},\"baxis\":{\"endlinecolor\":\"#2a3f5f\",\"gridcolor\":\"white\",\"linecolor\":\"white\",\"minorgridcolor\":\"white\",\"startlinecolor\":\"#2a3f5f\"},\"type\":\"carpet\"}],\"table\":[{\"cells\":{\"fill\":{\"color\":\"#EBF0F8\"},\"line\":{\"color\":\"white\"}},\"header\":{\"fill\":{\"color\":\"#C8D4E3\"},\"line\":{\"color\":\"white\"}},\"type\":\"table\"}],\"barpolar\":[{\"marker\":{\"line\":{\"color\":\"#E5ECF6\",\"width\":0.5},\"pattern\":{\"fillmode\":\"overlay\",\"size\":10,\"solidity\":0.2}},\"type\":\"barpolar\"}],\"pie\":[{\"automargin\":true,\"type\":\"pie\"}]},\"layout\":{\"autotypenumbers\":\"strict\",\"colorway\":[\"#636efa\",\"#EF553B\",\"#00cc96\",\"#ab63fa\",\"#FFA15A\",\"#19d3f3\",\"#FF6692\",\"#B6E880\",\"#FF97FF\",\"#FECB52\"],\"font\":{\"color\":\"#2a3f5f\"},\"hovermode\":\"closest\",\"hoverlabel\":{\"align\":\"left\"},\"paper_bgcolor\":\"white\",\"plot_bgcolor\":\"#E5ECF6\",\"polar\":{\"bgcolor\":\"#E5ECF6\",\"angularaxis\":{\"gridcolor\":\"white\",\"linecolor\":\"white\",\"ticks\":\"\"},\"radialaxis\":{\"gridcolor\":\"white\",\"linecolor\":\"white\",\"ticks\":\"\"}},\"ternary\":{\"bgcolor\":\"#E5ECF6\",\"aaxis\":{\"gridcolor\":\"white\",\"linecolor\":\"white\",\"ticks\":\"\"},\"baxis\":{\"gridcolor\":\"white\",\"linecolor\":\"white\",\"ticks\":\"\"},\"caxis\":{\"gridcolor\":\"white\",\"linecolor\":\"white\",\"ticks\":\"\"}},\"coloraxis\":{\"colorbar\":{\"outlinewidth\":0,\"ticks\":\"\"}},\"colorscale\":{\"sequential\":[[0.0,\"#0d0887\"],[0.1111111111111111,\"#46039f\"],[0.2222222222222222,\"#7201a8\"],[0.3333333333333333,\"#9c179e\"],[0.4444444444444444,\"#bd3786\"],[0.5555555555555556,\"#d8576b\"],[0.6666666666666666,\"#ed7953\"],[0.7777777777777778,\"#fb9f3a\"],[0.8888888888888888,\"#fdca26\"],[1.0,\"#f0f921\"]],\"sequentialminus\":[[0.0,\"#0d0887\"],[0.1111111111111111,\"#46039f\"],[0.2222222222222222,\"#7201a8\"],[0.3333333333333333,\"#9c179e\"],[0.4444444444444444,\"#bd3786\"],[0.5555555555555556,\"#d8576b\"],[0.6666666666666666,\"#ed7953\"],[0.7777777777777778,\"#fb9f3a\"],[0.8888888888888888,\"#fdca26\"],[1.0,\"#f0f921\"]],\"diverging\":[[0,\"#8e0152\"],[0.1,\"#c51b7d\"],[0.2,\"#de77ae\"],[0.3,\"#f1b6da\"],[0.4,\"#fde0ef\"],[0.5,\"#f7f7f7\"],[0.6,\"#e6f5d0\"],[0.7,\"#b8e186\"],[0.8,\"#7fbc41\"],[0.9,\"#4d9221\"],[1,\"#276419\"]]},\"xaxis\":{\"gridcolor\":\"white\",\"linecolor\":\"white\",\"ticks\":\"\",\"title\":{\"standoff\":15},\"zerolinecolor\":\"white\",\"automargin\":true,\"zerolinewidth\":2},\"yaxis\":{\"gridcolor\":\"white\",\"linecolor\":\"white\",\"ticks\":\"\",\"title\":{\"standoff\":15},\"zerolinecolor\":\"white\",\"automargin\":true,\"zerolinewidth\":2},\"scene\":{\"xaxis\":{\"backgroundcolor\":\"#E5ECF6\",\"gridcolor\":\"white\",\"linecolor\":\"white\",\"showbackground\":true,\"ticks\":\"\",\"zerolinecolor\":\"white\",\"gridwidth\":2},\"yaxis\":{\"backgroundcolor\":\"#E5ECF6\",\"gridcolor\":\"white\",\"linecolor\":\"white\",\"showbackground\":true,\"ticks\":\"\",\"zerolinecolor\":\"white\",\"gridwidth\":2},\"zaxis\":{\"backgroundcolor\":\"#E5ECF6\",\"gridcolor\":\"white\",\"linecolor\":\"white\",\"showbackground\":true,\"ticks\":\"\",\"zerolinecolor\":\"white\",\"gridwidth\":2}},\"shapedefaults\":{\"line\":{\"color\":\"#2a3f5f\"}},\"annotationdefaults\":{\"arrowcolor\":\"#2a3f5f\",\"arrowhead\":0,\"arrowwidth\":1},\"geo\":{\"bgcolor\":\"white\",\"landcolor\":\"#E5ECF6\",\"subunitcolor\":\"white\",\"showland\":true,\"showlakes\":true,\"lakecolor\":\"white\"},\"title\":{\"x\":0.05},\"mapbox\":{\"style\":\"light\"}}},\"xaxis\":{\"anchor\":\"y\",\"domain\":[0.0,1.0]},\"yaxis\":{\"anchor\":\"x\",\"domain\":[0.7333333333333334,1.0]},\"xaxis2\":{\"anchor\":\"y2\",\"domain\":[0.0,1.0]},\"yaxis2\":{\"anchor\":\"x2\",\"domain\":[0.3666666666666667,0.6333333333333333]},\"xaxis3\":{\"anchor\":\"y3\",\"domain\":[0.0,1.0]},\"yaxis3\":{\"anchor\":\"x3\",\"domain\":[0.0,0.26666666666666666]},\"annotations\":[{\"font\":{\"size\":16},\"showarrow\":false,\"text\":\"Boxplot of Age\",\"x\":0.5,\"xanchor\":\"center\",\"xref\":\"paper\",\"y\":1.0,\"yanchor\":\"bottom\",\"yref\":\"paper\"},{\"font\":{\"size\":16},\"showarrow\":false,\"text\":\"Boxplot of Years of Experience\",\"x\":0.5,\"xanchor\":\"center\",\"xref\":\"paper\",\"y\":0.6333333333333333,\"yanchor\":\"bottom\",\"yref\":\"paper\"},{\"font\":{\"size\":16},\"showarrow\":false,\"text\":\"Boxplot of Salary\",\"x\":0.5,\"xanchor\":\"center\",\"xref\":\"paper\",\"y\":0.26666666666666666,\"yanchor\":\"bottom\",\"yref\":\"paper\"}],\"title\":{\"text\":\"Boxplots for All Numerical Columns\"},\"height\":900,\"showlegend\":true},                        {\"responsive\": true}                    ).then(function(){\n",
              "                            \n",
              "var gd = document.getElementById('9b384053-ae4b-4e7d-94a6-9f2f0948d93b');\n",
              "var x = new MutationObserver(function (mutations, observer) {{\n",
              "        var display = window.getComputedStyle(gd).display;\n",
              "        if (!display || display === 'none') {{\n",
              "            console.log([gd, 'removed!']);\n",
              "            Plotly.purge(gd);\n",
              "            observer.disconnect();\n",
              "        }}\n",
              "}});\n",
              "\n",
              "// Listen for the removal of the full notebook cells\n",
              "var notebookContainer = gd.closest('#notebook-container');\n",
              "if (notebookContainer) {{\n",
              "    x.observe(notebookContainer, {childList: true});\n",
              "}}\n",
              "\n",
              "// Listen for the clearing of the current output cell\n",
              "var outputEl = gd.closest('.output');\n",
              "if (outputEl) {{\n",
              "    x.observe(outputEl, {childList: true});\n",
              "}}\n",
              "\n",
              "                        })                };                            </script>        </div>\n",
              "</body>\n",
              "</html>"
            ]
          },
          "metadata": {},
          "output_type": "display_data"
        }
      ],
      "source": [
        "import plotly.graph_objects as go\n",
        "from plotly.subplots import make_subplots\n",
        "\n",
        "import pandas as pd\n",
        "\n",
        "# Select numeric columns only\n",
        "numeric_cols = df.select_dtypes(include='number').columns\n",
        "\n",
        "# Create subplot layout\n",
        "fig = make_subplots(rows=len(numeric_cols), cols=1, shared_xaxes=False,\n",
        "                    subplot_titles=[f'Boxplot of {col}' for col in numeric_cols],\n",
        "                    vertical_spacing=0.1)\n",
        "\n",
        "# Add one boxplot per numeric column\n",
        "for i, col in enumerate(numeric_cols, start=1):\n",
        "    fig.add_trace(\n",
        "        go.Box(x=df[col], name=col, orientation='h', marker_color='lightblue'),\n",
        "        row=i, col=1\n",
        "    )\n",
        "\n",
        "# Update layout\n",
        "fig.update_layout(height=300 * len(numeric_cols), title_text=\"Boxplots for All Numerical Columns\", showlegend=True)\n",
        "\n",
        "fig.show()\n"
      ]
    },
    {
      "cell_type": "code",
      "execution_count": null,
      "metadata": {
        "colab": {
          "base_uri": "https://localhost:8080/"
        },
        "id": "zHpEwiMYrIR8",
        "outputId": "bc4155ba-a6bb-447b-88d6-11befe116b6c"
      },
      "outputs": [
        {
          "name": "stdout",
          "output_type": "stream",
          "text": [
            "Original dataset size: (6704, 6)\n",
            "After removing outliers: (1761, 6)\n"
          ]
        }
      ],
      "source": [
        "print(\"Original dataset size:\", df_original.shape)\n",
        "print(\"After removing outliers:\", df.shape)"
      ]
    },
    {
      "cell_type": "code",
      "execution_count": null,
      "metadata": {
        "colab": {
          "base_uri": "https://localhost:8080/"
        },
        "id": "U1RkTwo9rQ0Q",
        "outputId": "5cfedf36-babd-4936-c4d7-5914ae72b1e0"
      },
      "outputs": [
        {
          "name": "stdout",
          "output_type": "stream",
          "text": [
            "               Age  Years of Experience         Salary\n",
            "count  1761.000000          1761.000000    1761.000000\n",
            "mean     34.833049             8.863146  112120.273140\n",
            "std       7.864077             6.430839   51180.245032\n",
            "min      21.000000             0.000000     350.000000\n",
            "25%      29.000000             3.000000   68000.000000\n",
            "50%      33.000000             8.000000  110000.000000\n",
            "75%      41.000000            13.000000  155000.000000\n",
            "max      58.000000            28.000000  250000.000000\n"
          ]
        }
      ],
      "source": [
        "print(df.describe())"
      ]
    },
    {
      "cell_type": "code",
      "execution_count": null,
      "metadata": {
        "colab": {
          "base_uri": "https://localhost:8080/",
          "height": 452
        },
        "id": "JdRXh255rU5W",
        "outputId": "790b777a-4d87-49d2-fff6-94f00d06fea8"
      },
      "outputs": [
        {
          "data": {
            "image/png": "[encoded data removed]",
            "text/plain": [
              "<Figure size 640x480 with 1 Axes>"
            ]
          },
          "metadata": {},
          "output_type": "display_data"
        }
      ],
      "source": [
        "import matplotlib.pyplot as plt\n",
        "\n",
        "plt.hist(df_original['Salary'], bins=50, alpha=0.5, label='Original')\n",
        "plt.hist(df['Salary'], bins=50, alpha=0.5, label='Cleaned')\n",
        "plt.legend()\n",
        "plt.title(\"Salary Distribution Before and After Outlier Removal\")\n",
        "plt.show()"
      ]
    },
    {
      "cell_type": "markdown",
      "metadata": {
        "id": "8emv-nBWwwAd"
      },
      "source": [
        "# Data Preprocessing"
      ]
    },
    {
      "cell_type": "markdown",
      "metadata": {
        "id": "GwVvzQc4w2a2"
      },
      "source": [
        "## Encode Categorical Features using Label Encoding"
      ]
    },
    {
      "cell_type": "code",
      "execution_count": null,
      "metadata": {
        "colab": {
          "base_uri": "https://localhost:8080/"
        },
        "id": "N4SUuk9Mw6Aj",
        "outputId": "ff49c272-5796-43f3-9d98-a818c95f6bd9"
      },
      "outputs": [
        {
          "name": "stdout",
          "output_type": "stream",
          "text": [
            "<class 'pandas.core.frame.DataFrame'>\n",
            "Index: 1761 entries, 0 to 1786\n",
            "Data columns (total 6 columns):\n",
            " #   Column               Non-Null Count  Dtype   \n",
            "---  ------               --------------  -----   \n",
            " 0   Age                  1761 non-null   float64 \n",
            " 1   Gender               1761 non-null   category\n",
            " 2   Education Level      1761 non-null   category\n",
            " 3   Job Title            1761 non-null   category\n",
            " 4   Years of Experience  1761 non-null   float64 \n",
            " 5   Salary               1761 non-null   float64 \n",
            "dtypes: category(3), float64(3)\n",
            "memory usage: 68.0 KB\n"
          ]
        }
      ],
      "source": [
        "df.info()"
      ]
    },
    {
      "cell_type": "code",
      "execution_count": null,
      "metadata": {
        "id": "vZ1JUcHyxAN8"
      },
      "outputs": [],
      "source": [
        "features = ['Age','Gender', 'Education Level', 'Job Title','Years of Experience']\n",
        "target = 'Salary'"
      ]
    },
    {
      "cell_type": "markdown",
      "metadata": {
        "id": "YynKecwyxaj3"
      },
      "source": [
        "### check how many unique values are in each column"
      ]
    },
    {
      "cell_type": "code",
      "execution_count": null,
      "metadata": {
        "colab": {
          "base_uri": "https://localhost:8080/"
        },
        "id": "VUzueCc3xdBw",
        "outputId": "e93d9d5b-03a6-4808-aa6c-d023f4154e54"
      },
      "outputs": [
        {
          "name": "stdout",
          "output_type": "stream",
          "text": [
            "Age                     38\n",
            "Gender                   3\n",
            "Education Level          7\n",
            "Job Title              191\n",
            "Years of Experience     31\n",
            "dtype: int64\n"
          ]
        }
      ],
      "source": [
        "print(df[features].nunique())"
      ]
    },
    {
      "cell_type": "code",
      "execution_count": null,
      "metadata": {
        "id": "sFiYVnDuxqKu"
      },
      "outputs": [],
      "source": [
        "from sklearn.preprocessing import LabelEncoder\n",
        "\n",
        "for col in features:\n",
        "    if df[col].dtype == 'category':\n",
        "        df[col] = LabelEncoder().fit_transform(df[col])\n"
      ]
    },
    {
      "cell_type": "markdown",
      "metadata": {
        "id": "LkS78WPExrcN"
      },
      "source": [
        "## Split Data into Train/Test Sets"
      ]
    },
    {
      "cell_type": "code",
      "execution_count": null,
      "metadata": {
        "id": "USu-gFvmxwDh"
      },
      "outputs": [],
      "source": [
        "from sklearn.model_selection import train_test_split\n",
        "\n",
        "X = df[features]\n",
        "y = df['Salary']\n",
        "\n",
        "X_train, X_test, y_train, y_test = train_test_split(X, y, test_size=0.2, random_state=42)\n"
      ]
    },
    {
      "cell_type": "code",
      "execution_count": null,
      "metadata": {
        "colab": {
          "base_uri": "https://localhost:8080/"
        },
        "id": "vphllZ0Tx6Iq",
        "outputId": "3e7048a1-94ad-47ae-d9ac-87cdb2f4837b"
      },
      "outputs": [
        {
          "name": "stdout",
          "output_type": "stream",
          "text": [
            "Final dataset shape: (1761, 6)\n",
            "Features: ['Age', 'Gender', 'Education Level', 'Job Title', 'Years of Experience']\n",
            "Target: Salary\n"
          ]
        }
      ],
      "source": [
        "print(\"Final dataset shape:\", df.shape)\n",
        "print(\"Features:\", X.columns.tolist())\n",
        "print(\"Target:\", target)"
      ]
    },
    {
      "cell_type": "markdown",
      "metadata": {
        "id": "H5uWCwQsz-Kq"
      },
      "source": [
        "### Correlation"
      ]
    },
    {
      "cell_type": "code",
      "execution_count": null,
      "metadata": {
        "colab": {
          "base_uri": "https://localhost:8080/",
          "height": 699
        },
        "id": "Dz-HdfNPy2st",
        "outputId": "afe704ea-0660-44d3-ccfd-4dcee24f128c"
      },
      "outputs": [
        {
          "data": {
            "image/png": "[encoded data removed]",
            "text/plain": [
              "<Figure size 1200x800 with 2 Axes>"
            ]
          },
          "metadata": {},
          "output_type": "display_data"
        }
      ],
      "source": [
        "import seaborn as sns\n",
        "import matplotlib.pyplot as plt\n",
        "import numpy as np\n",
        "\n",
        "# Calculate correlation on all numeric columns (including encoded categorical)\n",
        "corr = df.corr(numeric_only=True)\n",
        "\n",
        "# Plot the heatmap\n",
        "plt.figure(figsize=(12, 8))\n",
        "sns.heatmap(corr, annot=True, fmt=\".2f\", cmap=\"coolwarm\", square=True, linewidths=0.5)\n",
        "plt.title(\"Correlation Heatmap Including Encoded Categorical Features\")\n",
        "plt.show()"
      ]
    },
    {
      "cell_type": "markdown",
      "metadata": {
        "id": "fw2HKljE0GJ5"
      },
      "source": [
        "## Focus on Correlation with a Target - Salary"
      ]
    },
    {
      "cell_type": "code",
      "execution_count": null,
      "metadata": {
        "colab": {
          "base_uri": "https://localhost:8080/"
        },
        "id": "UzvHl02xzWPE",
        "outputId": "05bb07af-1037-4950-d42f-d201e30d462e"
      },
      "outputs": [
        {
          "name": "stdout",
          "output_type": "stream",
          "text": [
            "Salary                 1.000000\n",
            "Years of Experience    0.827170\n",
            "Age                    0.763189\n",
            "Education Level        0.494529\n",
            "Job Title              0.132132\n",
            "Gender                 0.108151\n",
            "Name: Salary, dtype: float64\n"
          ]
        }
      ],
      "source": [
        "target = 'Salary'\n",
        "correlations = df.corr(numeric_only=True)[target].sort_values(ascending=False)\n",
        "print(correlations)\n"
      ]
    },
    {
      "cell_type": "code",
      "execution_count": null,
      "metadata": {
        "colab": {
          "base_uri": "https://localhost:8080/"
        },
        "id": "WOe0PoqO0Lff",
        "outputId": "820ce35b-e3f7-4078-d230-5a659512eb0a"
      },
      "outputs": [
        {
          "name": "stdout",
          "output_type": "stream",
          "text": [
            "R² Score: 0.9169842239548527\n",
            "Mean Salary: 112120.27314026121\n",
            "Mean Absolute Error (MAE): 8683.61911296034\n",
            "RMSE: 14590.220429223313\n",
            "Mean Squared Error (MSE): 212874532.17332533\n"
          ]
        }
      ],
      "source": [
        "from xgboost import XGBRegressor\n",
        "from sklearn.metrics import r2_score\n",
        "from sklearn.metrics import mean_absolute_error\n",
        "from sklearn.metrics import mean_squared_error\n",
        "from sklearn.metrics import mean_squared_error\n",
        "\n",
        "model = XGBRegressor()\n",
        "model.fit(X_train, y_train)\n",
        "y_pred = model.predict(X_test)\n",
        "\n",
        "print(\"R² Score:\", r2_score(y_test, y_pred))\n",
        "print(\"Mean Salary:\", df['Salary'].mean())\n",
        "print(\"Mean Absolute Error (MAE):\", mean_absolute_error(y_test, y_pred))\n",
        "print(\"RMSE:\",np.sqrt(mean_squared_error(y_test, y_pred)))\n",
        "print(\"Mean Squared Error (MSE):\", mean_squared_error(y_test, y_pred))"
      ]
    }
  ],
  "metadata": {
    "colab": {
      "provenance": []
    },
    "kernelspec": {
      "display_name": "ml-env",
      "language": "python",
      "name": "python3"
    },
    "language_info": {
      "codemirror_mode": {
        "name": "ipython",
        "version": 3
      },
      "file_extension": ".py",
      "mimetype": "text/x-python",
      "name": "python",
      "nbconvert_exporter": "python",
      "pygments_lexer": "ipython3",
      "version": "3.11.13"
    }
  },
  "nbformat": 4,
  "nbformat_minor": 0
}
