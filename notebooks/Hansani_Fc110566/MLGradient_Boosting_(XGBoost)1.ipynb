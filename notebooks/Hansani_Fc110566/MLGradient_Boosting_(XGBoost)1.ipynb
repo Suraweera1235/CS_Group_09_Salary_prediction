{
  "cells": [
    {
      "cell_type": "code",
      "execution_count": 1,
      "metadata": {
        "colab": {
          "base_uri": "https://localhost:8080/",
          "height": 206
        },
        "id": "mfdjqisInexC",
        "outputId": "839b70c6-76cf-4019-9c60-3997df53636c"
      },
      "outputs": [
        {
          "data": {
            "text/html": [
              "<div>\n",
              "<style scoped>\n",
              "    .dataframe tbody tr th:only-of-type {\n",
              "        vertical-align: middle;\n",
              "    }\n",
              "\n",
              "    .dataframe tbody tr th {\n",
              "        vertical-align: top;\n",
              "    }\n",
              "\n",
              "    .dataframe thead th {\n",
              "        text-align: right;\n",
              "    }\n",
              "</style>\n",
              "<table border=\"1\" class=\"dataframe\">\n",
              "  <thead>\n",
              "    <tr style=\"text-align: right;\">\n",
              "      <th></th>\n",
              "      <th>Age</th>\n",
              "      <th>Gender</th>\n",
              "      <th>Education Level</th>\n",
              "      <th>Job Title</th>\n",
              "      <th>Years of Experience</th>\n",
              "      <th>Salary</th>\n",
              "    </tr>\n",
              "  </thead>\n",
              "  <tbody>\n",
              "    <tr>\n",
              "      <th>0</th>\n",
              "      <td>32.0</td>\n",
              "      <td>Male</td>\n",
              "      <td>Bachelor's</td>\n",
              "      <td>Software Engineer</td>\n",
              "      <td>5.0</td>\n",
              "      <td>90000.0</td>\n",
              "    </tr>\n",
              "    <tr>\n",
              "      <th>1</th>\n",
              "      <td>28.0</td>\n",
              "      <td>Female</td>\n",
              "      <td>Master's</td>\n",
              "      <td>Data Analyst</td>\n",
              "      <td>3.0</td>\n",
              "      <td>65000.0</td>\n",
              "    </tr>\n",
              "    <tr>\n",
              "      <th>2</th>\n",
              "      <td>45.0</td>\n",
              "      <td>Male</td>\n",
              "      <td>PhD</td>\n",
              "      <td>Senior Manager</td>\n",
              "      <td>15.0</td>\n",
              "      <td>150000.0</td>\n",
              "    </tr>\n",
              "    <tr>\n",
              "      <th>3</th>\n",
              "      <td>36.0</td>\n",
              "      <td>Female</td>\n",
              "      <td>Bachelor's</td>\n",
              "      <td>Sales Associate</td>\n",
              "      <td>7.0</td>\n",
              "      <td>60000.0</td>\n",
              "    </tr>\n",
              "    <tr>\n",
              "      <th>4</th>\n",
              "      <td>52.0</td>\n",
              "      <td>Male</td>\n",
              "      <td>Master's</td>\n",
              "      <td>Director</td>\n",
              "      <td>20.0</td>\n",
              "      <td>200000.0</td>\n",
              "    </tr>\n",
              "  </tbody>\n",
              "</table>\n",
              "</div>"
            ],
            "text/plain": [
              "    Age  Gender Education Level          Job Title  Years of Experience  \\\n",
              "0  32.0    Male      Bachelor's  Software Engineer                  5.0   \n",
              "1  28.0  Female        Master's       Data Analyst                  3.0   \n",
              "2  45.0    Male             PhD     Senior Manager                 15.0   \n",
              "3  36.0  Female      Bachelor's    Sales Associate                  7.0   \n",
              "4  52.0    Male        Master's           Director                 20.0   \n",
              "\n",
              "     Salary  \n",
              "0   90000.0  \n",
              "1   65000.0  \n",
              "2  150000.0  \n",
              "3   60000.0  \n",
              "4  200000.0  "
            ]
          },
          "execution_count": 1,
          "metadata": {},
          "output_type": "execute_result"
        }
      ],
      "source": [
        "#import kagglehub\n",
        "import pandas as pd\n",
        "import numpy as np\n",
        "import os\n",
        "import plotly.express as px\n",
        "#import cufflinks as cf\n",
        "import plotly.io as pio\n",
        "import matplotlib.pyplot as plt\n",
        "import matplotlib.cm as cm\n",
        "import seaborn as sns\n",
        "\n",
        "# Download the dataset to a directory\n",
        "# path = kagglehub.dataset_download(\"mohithsairamreddy/salary-data\")\n",
        "\n",
        "# Read the CSV file into a DataFrame\n",
        "# df = pd.read_csv(os.path.join(path, \"Salary_Data.csv\"))\n",
        "df = pd.read_csv(\"/workspaces/CS_Group_09_Salary_prediction/data/Salary_Data.csv\")\n",
        "df_original = df.copy()\n",
        "df.head()"
      ]
    },
    {
      "cell_type": "markdown",
      "metadata": {
        "id": "GG7eroh-nhEO"
      },
      "source": []
    },
    {
      "cell_type": "code",
      "execution_count": 2,
      "metadata": {
        "colab": {
          "base_uri": "https://localhost:8080/"
        },
        "id": "kt9poIxBhykB",
        "outputId": "25b12f11-da87-4cfb-d4e7-a1e88f306c2a"
      },
      "outputs": [
        {
          "name": "stdout",
          "output_type": "stream",
          "text": [
            "<class 'pandas.core.frame.DataFrame'>\n",
            "RangeIndex: 6704 entries, 0 to 6703\n",
            "Data columns (total 6 columns):\n",
            " #   Column               Non-Null Count  Dtype  \n",
            "---  ------               --------------  -----  \n",
            " 0   Age                  6702 non-null   float64\n",
            " 1   Gender               6702 non-null   object \n",
            " 2   Education Level      6701 non-null   object \n",
            " 3   Job Title            6702 non-null   object \n",
            " 4   Years of Experience  6701 non-null   float64\n",
            " 5   Salary               6699 non-null   float64\n",
            "dtypes: float64(3), object(3)\n",
            "memory usage: 314.4+ KB\n"
          ]
        }
      ],
      "source": [
        "df.info()"
      ]
    },
    {
      "cell_type": "markdown",
      "metadata": {
        "id": "o5EjAYCnh5Mj"
      },
      "source": [
        "# Data Cleaning"
      ]
    },
    {
      "cell_type": "markdown",
      "metadata": {
        "id": "4q_gfIdjh7PN"
      },
      "source": [
        "## Cast the object data type into category data types"
      ]
    },
    {
      "cell_type": "code",
      "execution_count": 3,
      "metadata": {
        "colab": {
          "base_uri": "https://localhost:8080/"
        },
        "id": "ujiureLzh13Z",
        "outputId": "ac623fe6-6715-4576-bad5-86382171908f"
      },
      "outputs": [
        {
          "name": "stdout",
          "output_type": "stream",
          "text": [
            "<class 'pandas.core.frame.DataFrame'>\n",
            "RangeIndex: 6704 entries, 0 to 6703\n",
            "Data columns (total 6 columns):\n",
            " #   Column               Non-Null Count  Dtype   \n",
            "---  ------               --------------  -----   \n",
            " 0   Age                  6702 non-null   float64 \n",
            " 1   Gender               6702 non-null   category\n",
            " 2   Education Level      6701 non-null   category\n",
            " 3   Job Title            6702 non-null   category\n",
            " 4   Years of Experience  6701 non-null   float64 \n",
            " 5   Salary               6699 non-null   float64 \n",
            "dtypes: category(3), float64(3)\n",
            "memory usage: 189.5 KB\n"
          ]
        }
      ],
      "source": [
        "df['Gender'] = df['Gender'].astype('category')\n",
        "df['Education Level'] = df['Education Level'].astype('category')\n",
        "df['Job Title'] = df['Job Title'].astype('category')\n",
        "df.info()"
      ]
    },
    {
      "cell_type": "markdown",
      "metadata": {
        "id": "dzE7032IiHBC"
      },
      "source": [
        "## Ensure numeric fields are numeric"
      ]
    },
    {
      "cell_type": "code",
      "execution_count": 4,
      "metadata": {
        "colab": {
          "base_uri": "https://localhost:8080/"
        },
        "id": "o8NFnMegiCm5",
        "outputId": "08c3e9ea-54df-42e4-ee0b-a48babf9f4fe"
      },
      "outputs": [
        {
          "name": "stdout",
          "output_type": "stream",
          "text": [
            "<class 'pandas.core.frame.DataFrame'>\n",
            "RangeIndex: 6704 entries, 0 to 6703\n",
            "Data columns (total 6 columns):\n",
            " #   Column               Non-Null Count  Dtype   \n",
            "---  ------               --------------  -----   \n",
            " 0   Age                  6702 non-null   float64 \n",
            " 1   Gender               6702 non-null   category\n",
            " 2   Education Level      6701 non-null   category\n",
            " 3   Job Title            6702 non-null   category\n",
            " 4   Years of Experience  6701 non-null   float64 \n",
            " 5   Salary               6699 non-null   float64 \n",
            "dtypes: category(3), float64(3)\n",
            "memory usage: 189.5 KB\n"
          ]
        }
      ],
      "source": [
        "df['Age'] = df['Age'].astype(float)\n",
        "df['Years of Experience'] = df['Years of Experience'].astype(float)\n",
        "df['Salary'] = df['Salary'].astype(float)\n",
        "df.info()"
      ]
    },
    {
      "cell_type": "markdown",
      "metadata": {
        "id": "vr8zNtApiVLQ"
      },
      "source": [
        "## Check for null values"
      ]
    },
    {
      "cell_type": "code",
      "execution_count": 5,
      "metadata": {
        "colab": {
          "base_uri": "https://localhost:8080/",
          "height": 272
        },
        "id": "MtdvsXS5iZRM",
        "outputId": "c02220df-5266-4e5f-dac5-e4db21c00353"
      },
      "outputs": [
        {
          "data": {
            "text/plain": [
              "Age                    2\n",
              "Gender                 2\n",
              "Education Level        3\n",
              "Job Title              2\n",
              "Years of Experience    3\n",
              "Salary                 5\n",
              "dtype: int64"
            ]
          },
          "execution_count": 5,
          "metadata": {},
          "output_type": "execute_result"
        }
      ],
      "source": [
        "# Check for missing values\n",
        "df.isnull().sum()"
      ]
    },
    {
      "cell_type": "code",
      "execution_count": 6,
      "metadata": {
        "id": "f4Q2zfd9icmU"
      },
      "outputs": [],
      "source": [
        "#If there are missing values\n",
        "df.replace('?', np.nan, inplace=True)\n",
        "df.dropna(inplace=True)"
      ]
    },
    {
      "cell_type": "code",
      "execution_count": 7,
      "metadata": {
        "colab": {
          "base_uri": "https://localhost:8080/",
          "height": 272
        },
        "id": "_8eAs2zwigen",
        "outputId": "86d8fcf2-846e-4a1d-ae6a-9d50bcfb3a8f"
      },
      "outputs": [
        {
          "data": {
            "text/plain": [
              "Age                    0\n",
              "Gender                 0\n",
              "Education Level        0\n",
              "Job Title              0\n",
              "Years of Experience    0\n",
              "Salary                 0\n",
              "dtype: int64"
            ]
          },
          "execution_count": 7,
          "metadata": {},
          "output_type": "execute_result"
        }
      ],
      "source": [
        "df.isnull().sum()"
      ]
    },
    {
      "cell_type": "markdown",
      "metadata": {
        "id": "k42FHy16j6gq"
      },
      "source": [
        "## Check for duplicated values"
      ]
    },
    {
      "cell_type": "code",
      "execution_count": 8,
      "metadata": {
        "colab": {
          "base_uri": "https://localhost:8080/"
        },
        "id": "FomAXHc3j8N7",
        "outputId": "6f2b465a-7eba-471c-a9d1-8c8c239e384b"
      },
      "outputs": [
        {
          "name": "stdout",
          "output_type": "stream",
          "text": [
            "Number of duplicate rows: 4911\n"
          ]
        }
      ],
      "source": [
        "# Check how many duplicate rows exist\n",
        "duplicate_rows = df[df.duplicated()]\n",
        "print(f\"Number of duplicate rows: {duplicate_rows.shape[0]}\")\n",
        "\n",
        "# Display duplicate rows\n",
        "# print(duplicate_rows)"
      ]
    },
    {
      "cell_type": "code",
      "execution_count": 9,
      "metadata": {
        "id": "5-FmluCRkBUL"
      },
      "outputs": [],
      "source": [
        "# Remove duplicate rows (keeps first occurrence by default)\n",
        "df = df.drop_duplicates()\n",
        "\n",
        "# Reset index if needed\n",
        "df.reset_index(drop=True, inplace=True)"
      ]
    },
    {
      "cell_type": "code",
      "execution_count": 10,
      "metadata": {
        "colab": {
          "base_uri": "https://localhost:8080/"
        },
        "id": "qBEq0hfZkLJD",
        "outputId": "0beb2b59-5372-41e5-a526-7b05e7bc9fb3"
      },
      "outputs": [
        {
          "name": "stdout",
          "output_type": "stream",
          "text": [
            "Remaining duplicate rows: 0\n"
          ]
        }
      ],
      "source": [
        "print(f\"Remaining duplicate rows: {df.duplicated().sum()}\")"
      ]
    },
    {
      "cell_type": "markdown",
      "metadata": {
        "id": "Qpq0QS88kRlz"
      },
      "source": [
        "## Standardize Text Values"
      ]
    },
    {
      "cell_type": "code",
      "execution_count": 11,
      "metadata": {
        "colab": {
          "base_uri": "https://localhost:8080/",
          "height": 272
        },
        "id": "7WftouZlkRQR",
        "outputId": "0b75426e-46d6-4358-bec6-530f8c92bfde"
      },
      "outputs": [
        {
          "data": {
            "text/plain": [
              "Age                     float64\n",
              "Gender                 category\n",
              "Education Level        category\n",
              "Job Title              category\n",
              "Years of Experience     float64\n",
              "Salary                  float64\n",
              "dtype: object"
            ]
          },
          "execution_count": 11,
          "metadata": {},
          "output_type": "execute_result"
        }
      ],
      "source": [
        "for col in df.select_dtypes(include='object'):\n",
        "    df[col] = df[col].str.strip()\n",
        "\n",
        "for col in df.select_dtypes(include='object'):\n",
        "    df[col] = df[col].str.strip().str.lower()\n",
        "\n",
        "df.dtypes"
      ]
    },
    {
      "cell_type": "markdown",
      "metadata": {
        "id": "MWPZD9pjkgXp"
      },
      "source": [
        "## Summary of statistics"
      ]
    },
    {
      "cell_type": "code",
      "execution_count": 12,
      "metadata": {
        "colab": {
          "base_uri": "https://localhost:8080/"
        },
        "id": "fXVRb_KQkh2G",
        "outputId": "a4d5dd40-20b4-49d5-a75d-f3af53f46a30"
      },
      "outputs": [
        {
          "name": "stdout",
          "output_type": "stream",
          "text": [
            "                Age Gender    Education Level                  Job Title  \\\n",
            "count   1787.000000   1787               1787                       1787   \n",
            "unique          NaN      3                  7                        191   \n",
            "top             NaN   Male  Bachelor's Degree  Software Engineer Manager   \n",
            "freq            NaN    966                506                        127   \n",
            "mean      35.139899    NaN                NaN                        NaN   \n",
            "std        8.213045    NaN                NaN                        NaN   \n",
            "min       21.000000    NaN                NaN                        NaN   \n",
            "25%       29.000000    NaN                NaN                        NaN   \n",
            "50%       33.000000    NaN                NaN                        NaN   \n",
            "75%       41.000000    NaN                NaN                        NaN   \n",
            "max       62.000000    NaN                NaN                        NaN   \n",
            "\n",
            "        Years of Experience         Salary  \n",
            "count           1787.000000    1787.000000  \n",
            "unique                  NaN            NaN  \n",
            "top                     NaN            NaN  \n",
            "freq                    NaN            NaN  \n",
            "mean               9.156128  113184.659765  \n",
            "std                6.844924   51596.536766  \n",
            "min                0.000000     350.000000  \n",
            "25%                3.000000   70000.000000  \n",
            "50%                8.000000  110000.000000  \n",
            "75%               13.000000  160000.000000  \n",
            "max               34.000000  250000.000000  \n"
          ]
        }
      ],
      "source": [
        "print(df.describe(include='all'))"
      ]
    },
    {
      "cell_type": "code",
      "execution_count": 13,
      "metadata": {
        "colab": {
          "base_uri": "https://localhost:8080/"
        },
        "id": "gwm-Qac8krBD",
        "outputId": "6c63da04-3ca8-455f-8a9a-c925f6213cd9"
      },
      "outputs": [
        {
          "name": "stdout",
          "output_type": "stream",
          "text": [
            "Cleaned dataset shape: (1787, 6)\n"
          ]
        }
      ],
      "source": [
        "print(\"Cleaned dataset shape:\", df.shape)"
      ]
    },
    {
      "cell_type": "markdown",
      "metadata": {
        "id": "2a05oP3FkveJ"
      },
      "source": [
        "## Check the outliers"
      ]
    },
    {
      "cell_type": "code",
      "execution_count": 14,
      "metadata": {
        "colab": {
          "base_uri": "https://localhost:8080/",
          "height": 577
        },
        "id": "kYWFe8YgksXD",
        "outputId": "83a4b2ed-d404-4dc6-cce5-710cdd99a6d0"
      },
      "outputs": [
        {
          "data": {
            "image/png": "[encoded data removed]",
            "text/plain": [
              "<Figure size 665x570 with 3 Axes>"
            ]
          },
          "metadata": {},
          "output_type": "display_data"
        }
      ],
      "source": [
        "# Identify only numerical columns\n",
        "numeric_cols = df.select_dtypes(include=[np.number]).columns\n",
        "\n",
        "fig, axs = plt.subplots(len(numeric_cols), 1, dpi=95, figsize=(7, len(numeric_cols) * 2))\n",
        "i = 0\n",
        "for col in numeric_cols:\n",
        "    axs[i].boxplot(df[col], vert=True) # Set vert=False for horizontal boxplots\n",
        "    axs[i].set_ylabel(col)\n",
        "    i+=1\n",
        "plt.tight_layout()\n",
        "plt.show()"
      ]
    },
    {
      "cell_type": "code",
      "execution_count": 15,
      "metadata": {
        "colab": {
          "base_uri": "https://localhost:8080/",
          "height": 719
        },
        "id": "6KcKXf1OolvD",
        "outputId": "ccb5ca4f-544b-4caf-c803-6bc7b7af4fa9"
      },
      "outputs": [
        {
          "data": {
            "image/png": "[encoded data removed]",
            "text/plain": [
              "<Figure size 665x712.5 with 3 Axes>"
            ]
          },
          "metadata": {},
          "output_type": "display_data"
        }
      ],
      "source": [
        "import matplotlib.pyplot as plt\n",
        "import numpy as np\n",
        "\n",
        "# Select only numerical columns\n",
        "numeric_cols = df.select_dtypes(include=[np.number]).columns\n",
        "\n",
        "# Create one subplot per numeric column\n",
        "fig, axs = plt.subplots(len(numeric_cols), 1, dpi=95, figsize=(7, len(numeric_cols) * 2.5))\n",
        "\n",
        "# Loop through each column and plot its histogram\n",
        "for i, col in enumerate(numeric_cols):\n",
        "    axs[i].hist(df[col], bins=30, color='skyblue', edgecolor='black', orientation='horizontal') # Set orientation='horizontal' for horizontal histograms\n",
        "    axs[i].set_title(f\"Histogram of {col}\")\n",
        "    axs[i].set_xlabel(\"Frequency\") # Swap xlabel and ylabel for horizontal\n",
        "    axs[i].set_ylabel(col) # Swap xlabel and ylabel for horizontal\n",
        "\n",
        "plt.tight_layout()\n",
        "plt.show()"
      ]
    },
    {
      "cell_type": "code",
      "execution_count": 16,
      "metadata": {
        "colab": {
          "base_uri": "https://localhost:8080/"
        },
        "id": "yE9XYSD-ns0j",
        "outputId": "2d41c665-2077-4f9b-eb67-30af4a8ff302"
      },
      "outputs": [
        {
          "name": "stdout",
          "output_type": "stream",
          "text": [
            "Cleaned dataset shape: (1761, 6)\n"
          ]
        }
      ],
      "source": [
        "# Identify only numerical columns\n",
        "numeric_cols = df.select_dtypes(include=[np.number]).columns\n",
        "\n",
        "# Loop through each numerical column and apply IQR method\n",
        "for col in numeric_cols:\n",
        "    q1, q3 = np.percentile(df[col], [25, 75])\n",
        "    iqr = q3 - q1\n",
        "    lower_bound = q1 - (1.5 * iqr)\n",
        "    upper_bound = q3 + (1.5 * iqr)\n",
        "\n",
        "    # Filter out outliers for this column\n",
        "    df = df[(df[col] >= lower_bound) & (df[col] <= upper_bound)]\n",
        "\n",
        "# The DataFrame df now has outliers removed from all numeric columns\n",
        "print(\"Cleaned dataset shape:\", df.shape)"
      ]
    },
    {
      "cell_type": "code",
      "execution_count": 17,
      "metadata": {
        "colab": {
          "base_uri": "https://localhost:8080/"
        },
        "id": "ZUoe2A-Enwtt",
        "outputId": "2eae2b4e-8ffb-48b3-f668-885396764654"
      },
      "outputs": [
        {
          "name": "stdout",
          "output_type": "stream",
          "text": [
            "Skewness: 0.09642479691218055\n",
            "Kurtosis: -1.0957167324545287\n"
          ]
        }
      ],
      "source": [
        "from scipy.stats import skew, kurtosis\n",
        "\n",
        "print(\"Skewness:\", skew(df['Salary']))\n",
        "print(\"Kurtosis:\", kurtosis(df['Salary']))"
      ]
    },
    {
      "cell_type": "code",
      "execution_count": 18,
      "metadata": {
        "colab": {
          "base_uri": "https://localhost:8080/",
          "height": 917
        },
        "id": "PAaDZQVEph3J",
        "outputId": "15b06ac7-e4de-4913-f863-f0f9f6007e84"
      },
      "outputs": [
        {
          "data": {
            "application/vnd.plotly.v1+json": {
              "config": {
                "plotlyServerURL": "https://plot.ly"
              },
              "data": [
                {
                  "marker": {
                    "color": "lightblue"
                  },
                  "name": "Age",
                  "orientation": "h",
                  "type": "box",
                  "x": {
                    "bdata": "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",
                    "dtype": "f8"
                  },
                  "xaxis": "x",
                  "yaxis": "y"
                },
                {
                  "marker": {
                    "color": "lightblue"
                  },
                  "name": "Years of Experience",
                  "orientation": "h",
                  "type": "box",
                  "x": {
                    "bdata": "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",
                    "dtype": "f8"
                  },
                  "xaxis": "x2",
                  "yaxis": "y2"
                },
                {
                  "marker": {
                    "color": "lightblue"
                  },
                  "name": "Salary",
                  "orientation": "h",
                  "type": "box",
                  "x": {
                    "bdata": "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",
                    "dtype": "f8"
                  },
                  "xaxis": "x3",
                  "yaxis": "y3"
                }
              ],
              "layout": {
                "annotations": [
                  {
                    "font": {
                      "size": 16
                    },
                    "showarrow": false,
                    "text": "Boxplot of Age",
                    "x": 0.5,
                    "xanchor": "center",
                    "xref": "paper",
                    "y": 1,
                    "yanchor": "bottom",
                    "yref": "paper"
                  },
                  {
                    "font": {
                      "size": 16
                    },
                    "showarrow": false,
                    "text": "Boxplot of Years of Experience",
                    "x": 0.5,
                    "xanchor": "center",
                    "xref": "paper",
                    "y": 0.6333333333333333,
                    "yanchor": "bottom",
                    "yref": "paper"
                  },
                  {
                    "font": {
                      "size": 16
                    },
                    "showarrow": false,
                    "text": "Boxplot of Salary",
                    "x": 0.5,
                    "xanchor": "center",
                    "xref": "paper",
                    "y": 0.26666666666666666,
                    "yanchor": "bottom",
                    "yref": "paper"
                  }
                ],
                "height": 900,
                "showlegend": true,
                "template": {
                  "data": {
                    "bar": [
                      {
                        "error_x": {
                          "color": "#2a3f5f"
                        },
                        "error_y": {
                          "color": "#2a3f5f"
                        },
                        "marker": {
                          "line": {
                            "color": "#E5ECF6",
                            "width": 0.5
                          },
                          "pattern": {
                            "fillmode": "overlay",
                            "size": 10,
                            "solidity": 0.2
                          }
                        },
                        "type": "bar"
                      }
                    ],
                    "barpolar": [
                      {
                        "marker": {
                          "line": {
                            "color": "#E5ECF6",
                            "width": 0.5
                          },
                          "pattern": {
                            "fillmode": "overlay",
                            "size": 10,
                            "solidity": 0.2
                          }
                        },
                        "type": "barpolar"
                      }
                    ],
                    "carpet": [
                      {
                        "aaxis": {
                          "endlinecolor": "#2a3f5f",
                          "gridcolor": "white",
                          "linecolor": "white",
                          "minorgridcolor": "white",
                          "startlinecolor": "#2a3f5f"
                        },
                        "baxis": {
                          "endlinecolor": "#2a3f5f",
                          "gridcolor": "white",
                          "linecolor": "white",
                          "minorgridcolor": "white",
                          "startlinecolor": "#2a3f5f"
                        },
                        "type": "carpet"
                      }
                    ],
                    "choropleth": [
                      {
                        "colorbar": {
                          "outlinewidth": 0,
                          "ticks": ""
                        },
                        "type": "choropleth"
                      }
                    ],
                    "contour": [
                      {
                        "colorbar": {
                          "outlinewidth": 0,
                          "ticks": ""
                        },
                        "colorscale": [
                          [
                            0,
                            "#0d0887"
                          ],
                          [
                            0.1111111111111111,
                            "#46039f"
                          ],
                          [
                            0.2222222222222222,
                            "#7201a8"
                          ],
                          [
                            0.3333333333333333,
                            "#9c179e"
                          ],
                          [
                            0.4444444444444444,
                            "#bd3786"
                          ],
                          [
                            0.5555555555555556,
                            "#d8576b"
                          ],
                          [
                            0.6666666666666666,
                            "#ed7953"
                          ],
                          [
                            0.7777777777777778,
                            "#fb9f3a"
                          ],
                          [
                            0.8888888888888888,
                            "#fdca26"
                          ],
                          [
                            1,
                            "#f0f921"
                          ]
                        ],
                        "type": "contour"
                      }
                    ],
                    "contourcarpet": [
                      {
                        "colorbar": {
                          "outlinewidth": 0,
                          "ticks": ""
                        },
                        "type": "contourcarpet"
                      }
                    ],
                    "heatmap": [
                      {
                        "colorbar": {
                          "outlinewidth": 0,
                          "ticks": ""
                        },
                        "colorscale": [
                          [
                            0,
                            "#0d0887"
                          ],
                          [
                            0.1111111111111111,
                            "#46039f"
                          ],
                          [
                            0.2222222222222222,
                            "#7201a8"
                          ],
                          [
                            0.3333333333333333,
                            "#9c179e"
                          ],
                          [
                            0.4444444444444444,
                            "#bd3786"
                          ],
                          [
                            0.5555555555555556,
                            "#d8576b"
                          ],
                          [
                            0.6666666666666666,
                            "#ed7953"
                          ],
                          [
                            0.7777777777777778,
                            "#fb9f3a"
                          ],
                          [
                            0.8888888888888888,
                            "#fdca26"
                          ],
                          [
                            1,
                            "#f0f921"
                          ]
                        ],
                        "type": "heatmap"
                      }
                    ],
                    "histogram": [
                      {
                        "marker": {
                          "pattern": {
                            "fillmode": "overlay",
                            "size": 10,
                            "solidity": 0.2
                          }
                        },
                        "type": "histogram"
                      }
                    ],
                    "histogram2d": [
                      {
                        "colorbar": {
                          "outlinewidth": 0,
                          "ticks": ""
                        },
                        "colorscale": [
                          [
                            0,
                            "#0d0887"
                          ],
                          [
                            0.1111111111111111,
                            "#46039f"
                          ],
                          [
                            0.2222222222222222,
                            "#7201a8"
                          ],
                          [
                            0.3333333333333333,
                            "#9c179e"
                          ],
                          [
                            0.4444444444444444,
                            "#bd3786"
                          ],
                          [
                            0.5555555555555556,
                            "#d8576b"
                          ],
                          [
                            0.6666666666666666,
                            "#ed7953"
                          ],
                          [
                            0.7777777777777778,
                            "#fb9f3a"
                          ],
                          [
                            0.8888888888888888,
                            "#fdca26"
                          ],
                          [
                            1,
                            "#f0f921"
                          ]
                        ],
                        "type": "histogram2d"
                      }
                    ],
                    "histogram2dcontour": [
                      {
                        "colorbar": {
                          "outlinewidth": 0,
                          "ticks": ""
                        },
                        "colorscale": [
                          [
                            0,
                            "#0d0887"
                          ],
                          [
                            0.1111111111111111,
                            "#46039f"
                          ],
                          [
                            0.2222222222222222,
                            "#7201a8"
                          ],
                          [
                            0.3333333333333333,
                            "#9c179e"
                          ],
                          [
                            0.4444444444444444,
                            "#bd3786"
                          ],
                          [
                            0.5555555555555556,
                            "#d8576b"
                          ],
                          [
                            0.6666666666666666,
                            "#ed7953"
                          ],
                          [
                            0.7777777777777778,
                            "#fb9f3a"
                          ],
                          [
                            0.8888888888888888,
                            "#fdca26"
                          ],
                          [
                            1,
                            "#f0f921"
                          ]
                        ],
                        "type": "histogram2dcontour"
                      }
                    ],
                    "mesh3d": [
                      {
                        "colorbar": {
                          "outlinewidth": 0,
                          "ticks": ""
                        },
                        "type": "mesh3d"
                      }
                    ],
                    "parcoords": [
                      {
                        "line": {
                          "colorbar": {
                            "outlinewidth": 0,
                            "ticks": ""
                          }
                        },
                        "type": "parcoords"
                      }
                    ],
                    "pie": [
                      {
                        "automargin": true,
                        "type": "pie"
                      }
                    ],
                    "scatter": [
                      {
                        "fillpattern": {
                          "fillmode": "overlay",
                          "size": 10,
                          "solidity": 0.2
                        },
                        "type": "scatter"
                      }
                    ],
                    "scatter3d": [
                      {
                        "line": {
                          "colorbar": {
                            "outlinewidth": 0,
                            "ticks": ""
                          }
                        },
                        "marker": {
                          "colorbar": {
                            "outlinewidth": 0,
                            "ticks": ""
                          }
                        },
                        "type": "scatter3d"
                      }
                    ],
                    "scattercarpet": [
                      {
                        "marker": {
                          "colorbar": {
                            "outlinewidth": 0,
                            "ticks": ""
                          }
                        },
                        "type": "scattercarpet"
                      }
                    ],
                    "scattergeo": [
                      {
                        "marker": {
                          "colorbar": {
                            "outlinewidth": 0,
                            "ticks": ""
                          }
                        },
                        "type": "scattergeo"
                      }
                    ],
                    "scattergl": [
                      {
                        "marker": {
                          "colorbar": {
                            "outlinewidth": 0,
                            "ticks": ""
                          }
                        },
                        "type": "scattergl"
                      }
                    ],
                    "scattermap": [
                      {
                        "marker": {
                          "colorbar": {
                            "outlinewidth": 0,
                            "ticks": ""
                          }
                        },
                        "type": "scattermap"
                      }
                    ],
                    "scattermapbox": [
                      {
                        "marker": {
                          "colorbar": {
                            "outlinewidth": 0,
                            "ticks": ""
                          }
                        },
                        "type": "scattermapbox"
                      }
                    ],
                    "scatterpolar": [
                      {
                        "marker": {
                          "colorbar": {
                            "outlinewidth": 0,
                            "ticks": ""
                          }
                        },
                        "type": "scatterpolar"
                      }
                    ],
                    "scatterpolargl": [
                      {
                        "marker": {
                          "colorbar": {
                            "outlinewidth": 0,
                            "ticks": ""
                          }
                        },
                        "type": "scatterpolargl"
                      }
                    ],
                    "scatterternary": [
                      {
                        "marker": {
                          "colorbar": {
                            "outlinewidth": 0,
                            "ticks": ""
                          }
                        },
                        "type": "scatterternary"
                      }
                    ],
                    "surface": [
                      {
                        "colorbar": {
                          "outlinewidth": 0,
                          "ticks": ""
                        },
                        "colorscale": [
                          [
                            0,
                            "#0d0887"
                          ],
                          [
                            0.1111111111111111,
                            "#46039f"
                          ],
                          [
                            0.2222222222222222,
                            "#7201a8"
                          ],
                          [
                            0.3333333333333333,
                            "#9c179e"
                          ],
                          [
                            0.4444444444444444,
                            "#bd3786"
                          ],
                          [
                            0.5555555555555556,
                            "#d8576b"
                          ],
                          [
                            0.6666666666666666,
                            "#ed7953"
                          ],
                          [
                            0.7777777777777778,
                            "#fb9f3a"
                          ],
                          [
                            0.8888888888888888,
                            "#fdca26"
                          ],
                          [
                            1,
                            "#f0f921"
                          ]
                        ],
                        "type": "surface"
                      }
                    ],
                    "table": [
                      {
                        "cells": {
                          "fill": {
                            "color": "#EBF0F8"
                          },
                          "line": {
                            "color": "white"
                          }
                        },
                        "header": {
                          "fill": {
                            "color": "#C8D4E3"
                          },
                          "line": {
                            "color": "white"
                          }
                        },
                        "type": "table"
                      }
                    ]
                  },
                  "layout": {
                    "annotationdefaults": {
                      "arrowcolor": "#2a3f5f",
                      "arrowhead": 0,
                      "arrowwidth": 1
                    },
                    "autotypenumbers": "strict",
                    "coloraxis": {
                      "colorbar": {
                        "outlinewidth": 0,
                        "ticks": ""
                      }
                    },
                    "colorscale": {
                      "diverging": [
                        [
                          0,
                          "#8e0152"
                        ],
                        [
                          0.1,
                          "#c51b7d"
                        ],
                        [
                          0.2,
                          "#de77ae"
                        ],
                        [
                          0.3,
                          "#f1b6da"
                        ],
                        [
                          0.4,
                          "#fde0ef"
                        ],
                        [
                          0.5,
                          "#f7f7f7"
                        ],
                        [
                          0.6,
                          "#e6f5d0"
                        ],
                        [
                          0.7,
                          "#b8e186"
                        ],
                        [
                          0.8,
                          "#7fbc41"
                        ],
                        [
                          0.9,
                          "#4d9221"
                        ],
                        [
                          1,
                          "#276419"
                        ]
                      ],
                      "sequential": [
                        [
                          0,
                          "#0d0887"
                        ],
                        [
                          0.1111111111111111,
                          "#46039f"
                        ],
                        [
                          0.2222222222222222,
                          "#7201a8"
                        ],
                        [
                          0.3333333333333333,
                          "#9c179e"
                        ],
                        [
                          0.4444444444444444,
                          "#bd3786"
                        ],
                        [
                          0.5555555555555556,
                          "#d8576b"
                        ],
                        [
                          0.6666666666666666,
                          "#ed7953"
                        ],
                        [
                          0.7777777777777778,
                          "#fb9f3a"
                        ],
                        [
                          0.8888888888888888,
                          "#fdca26"
                        ],
                        [
                          1,
                          "#f0f921"
                        ]
                      ],
                      "sequentialminus": [
                        [
                          0,
                          "#0d0887"
                        ],
                        [
                          0.1111111111111111,
                          "#46039f"
                        ],
                        [
                          0.2222222222222222,
                          "#7201a8"
                        ],
                        [
                          0.3333333333333333,
                          "#9c179e"
                        ],
                        [
                          0.4444444444444444,
                          "#bd3786"
                        ],
                        [
                          0.5555555555555556,
                          "#d8576b"
                        ],
                        [
                          0.6666666666666666,
                          "#ed7953"
                        ],
                        [
                          0.7777777777777778,
                          "#fb9f3a"
                        ],
                        [
                          0.8888888888888888,
                          "#fdca26"
                        ],
                        [
                          1,
                          "#f0f921"
                        ]
                      ]
                    },
                    "colorway": [
                      "#636efa",
                      "#EF553B",
                      "#00cc96",
                      "#ab63fa",
                      "#FFA15A",
                      "#19d3f3",
                      "#FF6692",
                      "#B6E880",
                      "#FF97FF",
                      "#FECB52"
                    ],
                    "font": {
                      "color": "#2a3f5f"
                    },
                    "geo": {
                      "bgcolor": "white",
                      "lakecolor": "white",
                      "landcolor": "#E5ECF6",
                      "showlakes": true,
                      "showland": true,
                      "subunitcolor": "white"
                    },
                    "hoverlabel": {
                      "align": "left"
                    },
                    "hovermode": "closest",
                    "mapbox": {
                      "style": "light"
                    },
                    "paper_bgcolor": "white",
                    "plot_bgcolor": "#E5ECF6",
                    "polar": {
                      "angularaxis": {
                        "gridcolor": "white",
                        "linecolor": "white",
                        "ticks": ""
                      },
                      "bgcolor": "#E5ECF6",
                      "radialaxis": {
                        "gridcolor": "white",
                        "linecolor": "white",
                        "ticks": ""
                      }
                    },
                    "scene": {
                      "xaxis": {
                        "backgroundcolor": "#E5ECF6",
                        "gridcolor": "white",
                        "gridwidth": 2,
                        "linecolor": "white",
                        "showbackground": true,
                        "ticks": "",
                        "zerolinecolor": "white"
                      },
                      "yaxis": {
                        "backgroundcolor": "#E5ECF6",
                        "gridcolor": "white",
                        "gridwidth": 2,
                        "linecolor": "white",
                        "showbackground": true,
                        "ticks": "",
                        "zerolinecolor": "white"
                      },
                      "zaxis": {
                        "backgroundcolor": "#E5ECF6",
                        "gridcolor": "white",
                        "gridwidth": 2,
                        "linecolor": "white",
                        "showbackground": true,
                        "ticks": "",
                        "zerolinecolor": "white"
                      }
                    },
                    "shapedefaults": {
                      "line": {
                        "color": "#2a3f5f"
                      }
                    },
                    "ternary": {
                      "aaxis": {
                        "gridcolor": "white",
                        "linecolor": "white",
                        "ticks": ""
                      },
                      "baxis": {
                        "gridcolor": "white",
                        "linecolor": "white",
                        "ticks": ""
                      },
                      "bgcolor": "#E5ECF6",
                      "caxis": {
                        "gridcolor": "white",
                        "linecolor": "white",
                        "ticks": ""
                      }
                    },
                    "title": {
                      "x": 0.05
                    },
                    "xaxis": {
                      "automargin": true,
                      "gridcolor": "white",
                      "linecolor": "white",
                      "ticks": "",
                      "title": {
                        "standoff": 15
                      },
                      "zerolinecolor": "white",
                      "zerolinewidth": 2
                    },
                    "yaxis": {
                      "automargin": true,
                      "gridcolor": "white",
                      "linecolor": "white",
                      "ticks": "",
                      "title": {
                        "standoff": 15
                      },
                      "zerolinecolor": "white",
                      "zerolinewidth": 2
                    }
                  }
                },
                "title": {
                  "text": "Boxplots for All Numerical Columns"
                },
                "xaxis": {
                  "anchor": "y",
                  "domain": [
                    0,
                    1
                  ]
                },
                "xaxis2": {
                  "anchor": "y2",
                  "domain": [
                    0,
                    1
                  ]
                },
                "xaxis3": {
                  "anchor": "y3",
                  "domain": [
                    0,
                    1
                  ]
                },
                "yaxis": {
                  "anchor": "x",
                  "domain": [
                    0.7333333333333334,
                    1
                  ]
                },
                "yaxis2": {
                  "anchor": "x2",
                  "domain": [
                    0.3666666666666667,
                    0.6333333333333333
                  ]
                },
                "yaxis3": {
                  "anchor": "x3",
                  "domain": [
                    0,
                    0.26666666666666666
                  ]
                }
              }
            }
          },
          "metadata": {},
          "output_type": "display_data"
        }
      ],
      "source": [
        "import plotly.graph_objects as go\n",
        "from plotly.subplots import make_subplots\n",
        "\n",
        "import pandas as pd\n",
        "\n",
        "# Select numeric columns only\n",
        "numeric_cols = df.select_dtypes(include='number').columns\n",
        "\n",
        "# Create subplot layout\n",
        "fig = make_subplots(rows=len(numeric_cols), cols=1, shared_xaxes=False,\n",
        "                    subplot_titles=[f'Boxplot of {col}' for col in numeric_cols],\n",
        "                    vertical_spacing=0.1)\n",
        "\n",
        "# Add one boxplot per numeric column\n",
        "for i, col in enumerate(numeric_cols, start=1):\n",
        "    fig.add_trace(\n",
        "        go.Box(x=df[col], name=col, orientation='h', marker_color='lightblue'),\n",
        "        row=i, col=1\n",
        "    )\n",
        "\n",
        "# Update layout\n",
        "fig.update_layout(height=300 * len(numeric_cols), title_text=\"Boxplots for All Numerical Columns\", showlegend=True)\n",
        "\n",
        "fig.show()\n"
      ]
    },
    {
      "cell_type": "code",
      "execution_count": 19,
      "metadata": {
        "colab": {
          "base_uri": "https://localhost:8080/"
        },
        "id": "zHpEwiMYrIR8",
        "outputId": "bc4155ba-a6bb-447b-88d6-11befe116b6c"
      },
      "outputs": [
        {
          "name": "stdout",
          "output_type": "stream",
          "text": [
            "Original dataset size: (6704, 6)\n",
            "After removing outliers: (1761, 6)\n"
          ]
        }
      ],
      "source": [
        "print(\"Original dataset size:\", df_original.shape)\n",
        "print(\"After removing outliers:\", df.shape)"
      ]
    },
    {
      "cell_type": "code",
      "execution_count": 20,
      "metadata": {
        "colab": {
          "base_uri": "https://localhost:8080/"
        },
        "id": "U1RkTwo9rQ0Q",
        "outputId": "5cfedf36-babd-4936-c4d7-5914ae72b1e0"
      },
      "outputs": [
        {
          "name": "stdout",
          "output_type": "stream",
          "text": [
            "               Age  Years of Experience         Salary\n",
            "count  1761.000000          1761.000000    1761.000000\n",
            "mean     34.833049             8.863146  112120.273140\n",
            "std       7.864077             6.430839   51180.245032\n",
            "min      21.000000             0.000000     350.000000\n",
            "25%      29.000000             3.000000   68000.000000\n",
            "50%      33.000000             8.000000  110000.000000\n",
            "75%      41.000000            13.000000  155000.000000\n",
            "max      58.000000            28.000000  250000.000000\n"
          ]
        }
      ],
      "source": [
        "print(df.describe())"
      ]
    },
    {
      "cell_type": "code",
      "execution_count": 21,
      "metadata": {
        "colab": {
          "base_uri": "https://localhost:8080/",
          "height": 452
        },
        "id": "JdRXh255rU5W",
        "outputId": "790b777a-4d87-49d2-fff6-94f00d06fea8"
      },
      "outputs": [
        {
          "data": {
            "image/png": "[encoded data removed]",
            "text/plain": [
              "<Figure size 640x480 with 1 Axes>"
            ]
          },
          "metadata": {},
          "output_type": "display_data"
        }
      ],
      "source": [
        "import matplotlib.pyplot as plt\n",
        "\n",
        "plt.hist(df_original['Salary'], bins=50, alpha=0.5, label='Original')\n",
        "plt.hist(df['Salary'], bins=50, alpha=0.5, label='Cleaned')\n",
        "plt.legend()\n",
        "plt.title(\"Salary Distribution Before and After Outlier Removal\")\n",
        "plt.show()"
      ]
    },
    {
      "cell_type": "markdown",
      "metadata": {
        "id": "8emv-nBWwwAd"
      },
      "source": [
        "# Data Preprocessing"
      ]
    },
    {
      "cell_type": "markdown",
      "metadata": {
        "id": "GwVvzQc4w2a2"
      },
      "source": [
        "## Encode Categorical Features using Label Encoding"
      ]
    },
    {
      "cell_type": "code",
      "execution_count": 22,
      "metadata": {
        "colab": {
          "base_uri": "https://localhost:8080/"
        },
        "id": "N4SUuk9Mw6Aj",
        "outputId": "ff49c272-5796-43f3-9d98-a818c95f6bd9"
      },
      "outputs": [
        {
          "name": "stdout",
          "output_type": "stream",
          "text": [
            "<class 'pandas.core.frame.DataFrame'>\n",
            "Index: 1761 entries, 0 to 1786\n",
            "Data columns (total 6 columns):\n",
            " #   Column               Non-Null Count  Dtype   \n",
            "---  ------               --------------  -----   \n",
            " 0   Age                  1761 non-null   float64 \n",
            " 1   Gender               1761 non-null   category\n",
            " 2   Education Level      1761 non-null   category\n",
            " 3   Job Title            1761 non-null   category\n",
            " 4   Years of Experience  1761 non-null   float64 \n",
            " 5   Salary               1761 non-null   float64 \n",
            "dtypes: category(3), float64(3)\n",
            "memory usage: 68.0 KB\n"
          ]
        }
      ],
      "source": [
        "df.info()"
      ]
    },
    {
      "cell_type": "code",
      "execution_count": 23,
      "metadata": {
        "id": "vZ1JUcHyxAN8"
      },
      "outputs": [],
      "source": [
        "features = ['Age','Gender', 'Education Level', 'Job Title','Years of Experience']\n",
        "target = 'Salary'"
      ]
    },
    {
      "cell_type": "markdown",
      "metadata": {
        "id": "YynKecwyxaj3"
      },
      "source": [
        "### check how many unique values are in each column"
      ]
    },
    {
      "cell_type": "code",
      "execution_count": 24,
      "metadata": {
        "colab": {
          "base_uri": "https://localhost:8080/"
        },
        "id": "VUzueCc3xdBw",
        "outputId": "e93d9d5b-03a6-4808-aa6c-d023f4154e54"
      },
      "outputs": [
        {
          "name": "stdout",
          "output_type": "stream",
          "text": [
            "Age                     38\n",
            "Gender                   3\n",
            "Education Level          7\n",
            "Job Title              191\n",
            "Years of Experience     31\n",
            "dtype: int64\n"
          ]
        }
      ],
      "source": [
        "print(df[features].nunique())"
      ]
    },
    {
      "cell_type": "code",
      "execution_count": 25,
      "metadata": {
        "id": "sFiYVnDuxqKu"
      },
      "outputs": [],
      "source": [
        "from sklearn.preprocessing import LabelEncoder\n",
        "\n",
        "for col in features:\n",
        "    if df[col].dtype == 'category':\n",
        "        df[col] = LabelEncoder().fit_transform(df[col])\n"
      ]
    },
    {
      "cell_type": "markdown",
      "metadata": {
        "id": "LkS78WPExrcN"
      },
      "source": [
        "## Split Data into Train/Test Sets"
      ]
    },
    {
      "cell_type": "code",
      "execution_count": 26,
      "metadata": {
        "id": "USu-gFvmxwDh"
      },
      "outputs": [],
      "source": [
        "from sklearn.model_selection import train_test_split\n",
        "\n",
        "X = df[features]\n",
        "y = df['Salary']\n",
        "\n",
        "X_train, X_test, y_train, y_test = train_test_split(X, y, test_size=0.2, random_state=42)\n"
      ]
    },
    {
      "cell_type": "code",
      "execution_count": 27,
      "metadata": {
        "colab": {
          "base_uri": "https://localhost:8080/"
        },
        "id": "vphllZ0Tx6Iq",
        "outputId": "3e7048a1-94ad-47ae-d9ac-87cdb2f4837b"
      },
      "outputs": [
        {
          "name": "stdout",
          "output_type": "stream",
          "text": [
            "Final dataset shape: (1761, 6)\n",
            "Features: ['Age', 'Gender', 'Education Level', 'Job Title', 'Years of Experience']\n",
            "Target: Salary\n"
          ]
        }
      ],
      "source": [
        "print(\"Final dataset shape:\", df.shape)\n",
        "print(\"Features:\", X.columns.tolist())\n",
        "print(\"Target:\", target)"
      ]
    },
    {
      "cell_type": "markdown",
      "metadata": {
        "id": "H5uWCwQsz-Kq"
      },
      "source": [
        "### Correlation"
      ]
    },
    {
      "cell_type": "code",
      "execution_count": 28,
      "metadata": {
        "colab": {
          "base_uri": "https://localhost:8080/",
          "height": 699
        },
        "id": "Dz-HdfNPy2st",
        "outputId": "afe704ea-0660-44d3-ccfd-4dcee24f128c"
      },
      "outputs": [
        {
          "data": {
            "image/png": "[encoded data removed]",
            "text/plain": [
              "<Figure size 1200x800 with 2 Axes>"
            ]
          },
          "metadata": {},
          "output_type": "display_data"
        }
      ],
      "source": [
        "import seaborn as sns\n",
        "import matplotlib.pyplot as plt\n",
        "import numpy as np\n",
        "\n",
        "# Calculate correlation on all numeric columns (including encoded categorical)\n",
        "corr = df.corr(numeric_only=True)\n",
        "\n",
        "# Plot the heatmap\n",
        "plt.figure(figsize=(12, 8))\n",
        "sns.heatmap(corr, annot=True, fmt=\".2f\", cmap=\"coolwarm\", square=True, linewidths=0.5)\n",
        "plt.title(\"Correlation Heatmap Including Encoded Categorical Features\")\n",
        "plt.show()"
      ]
    },
    {
      "cell_type": "markdown",
      "metadata": {
        "id": "fw2HKljE0GJ5"
      },
      "source": [
        "## Focus on Correlation with a Target - Salary"
      ]
    },
    {
      "cell_type": "code",
      "execution_count": 29,
      "metadata": {
        "colab": {
          "base_uri": "https://localhost:8080/"
        },
        "id": "UzvHl02xzWPE",
        "outputId": "05bb07af-1037-4950-d42f-d201e30d462e"
      },
      "outputs": [
        {
          "name": "stdout",
          "output_type": "stream",
          "text": [
            "Salary                 1.000000\n",
            "Years of Experience    0.827170\n",
            "Age                    0.763189\n",
            "Education Level        0.494529\n",
            "Job Title              0.132132\n",
            "Gender                 0.108151\n",
            "Name: Salary, dtype: float64\n"
          ]
        }
      ],
      "source": [
        "target = 'Salary'\n",
        "correlations = df.corr(numeric_only=True)[target].sort_values(ascending=False)\n",
        "print(correlations)\n"
      ]
    },
    {
      "cell_type": "code",
      "execution_count": 30,
      "metadata": {
        "colab": {
          "base_uri": "https://localhost:8080/"
        },
        "id": "WOe0PoqO0Lff",
        "outputId": "820ce35b-e3f7-4078-d230-5a659512eb0a"
      },
      "outputs": [
        {
          "name": "stdout",
          "output_type": "stream",
          "text": [
            "R² Score: 0.9169842239548527\n",
            "Mean Salary: 112120.27314026121\n",
            "Mean Absolute Error (MAE): 8683.61911296034\n",
            "RMSE: 14590.220429223313\n",
            "Mean Squared Error (MSE): 212874532.17332533\n"
          ]
        }
      ],
      "source": [
        "from xgboost import XGBRegressor\n",
        "from sklearn.metrics import r2_score\n",
        "from sklearn.metrics import mean_absolute_error\n",
        "from sklearn.metrics import mean_squared_error\n",
        "from sklearn.metrics import mean_squared_error\n",
        "\n",
        "model = XGBRegressor()\n",
        "model.fit(X_train, y_train)\n",
        "y_pred = model.predict(X_test)\n",
        "\n",
        "print(\"R² Score:\", r2_score(y_test, y_pred))\n",
        "print(\"Mean Salary:\", df['Salary'].mean())\n",
        "print(\"Mean Absolute Error (MAE):\", mean_absolute_error(y_test, y_pred))\n",
        "print(\"RMSE:\",np.sqrt(mean_squared_error(y_test, y_pred)))\n",
        "print(\"Mean Squared Error (MSE):\", mean_squared_error(y_test, y_pred))"
      ]
    }
  ],
  "metadata": {
    "colab": {
      "provenance": []
    },
    "kernelspec": {
      "display_name": "ml-env",
      "language": "python",
      "name": "python3"
    },
    "language_info": {
      "codemirror_mode": {
        "name": "ipython",
        "version": 3
      },
      "file_extension": ".py",
      "mimetype": "text/x-python",
      "name": "python",
      "nbconvert_exporter": "python",
      "pygments_lexer": "ipython3",
      "version": "3.11.13"
    }
  },
  "nbformat": 4,
  "nbformat_minor": 0
}
