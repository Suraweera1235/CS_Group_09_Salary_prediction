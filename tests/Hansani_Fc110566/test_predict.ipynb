{
 "cells": [
  {
   "cell_type": "code",
   "execution_count": 7,
   "id": "5bda0994",
   "metadata": {},
   "outputs": [
    {
     "name": "stdout",
     "output_type": "stream",
     "text": [
      "All tests passed successfully!\n"
     ]
    }
   ],
   "source": [
    "def run_all_tests():\n",
    "    import joblib, os, pandas as pd, numpy as np\n",
    "    \n",
    "    # Test if the model file exists\n",
    "    assert os.path.exists(\"/workspaces/CS_Group_09_Salary_prediction/notebooks/Hansani_Fc110566/model3.pkl\"), \"Model file not found.\"\n",
    "    model = joblib.load(\"/workspaces/CS_Group_09_Salary_prediction/notebooks/Hansani_Fc110566/model3.pkl\")\n",
    "\n",
    "    features = model.get_booster().feature_names\n",
    "    sample = pd.DataFrame([np.zeros(len(features))], columns=features)\n",
    "    prediction = model.predict(sample)\n",
    "\n",
    "    # Test input data is free of NaNs\n",
    "    assert not sample.isnull().values.any(), \"Input sample has missing values.\"\n",
    "\n",
    "    #Test prediction shape and type\n",
    "    assert prediction.shape == (1,), \"Prediction output shape incorrect.\"\n",
    "    assert isinstance(prediction[0], (float, np.float32, np.float64)), \"Prediction not float.\"\n",
    "\n",
    "    # Test prediction is non-negative and within a reasonable range\n",
    "    assert prediction[0] >= 0, \"Prediction should be non-negative.\"\n",
    "    assert prediction[0] < 1_000_000, \"Prediction exceeds expected range.\"\n",
    "\n",
    "    assert not sample.isnull().values.any(), \"Sample has missing values.\"\n",
    "\n",
    "    print(\"All tests passed successfully!\")\n",
    "\n",
    "run_all_tests()\n"
   ]
  }
 ],
 "metadata": {
  "kernelspec": {
   "display_name": "ml-env",
   "language": "python",
   "name": "python3"
  },
  "language_info": {
   "codemirror_mode": {
    "name": "ipython",
    "version": 3
   },
   "file_extension": ".py",
   "mimetype": "text/x-python",
   "name": "python",
   "nbconvert_exporter": "python",
   "pygments_lexer": "ipython3",
   "version": "3.11.13"
  }
 },
 "nbformat": 4,
 "nbformat_minor": 5
}
