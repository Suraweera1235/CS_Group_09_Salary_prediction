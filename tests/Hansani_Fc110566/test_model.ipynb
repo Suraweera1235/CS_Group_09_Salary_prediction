{
 "cells": [
  {
   "cell_type": "code",
   "execution_count": 1,
   "id": "d2cc7117",
   "metadata": {},
   "outputs": [
    {
     "name": "stdout",
     "output_type": "stream",
     "text": [
      "Model loaded successfully.\n"
     ]
    }
   ],
   "source": [
    "import joblib\n",
    "\n",
    "try:\n",
    "    model = joblib.load(\"/workspaces/CS_Group_09_Salary_prediction/notebooks/Hansani_Fc110566/model3.pkl\")\n",
    "    print(\"Model loaded successfully.\")\n",
    "except Exception as e:\n",
    "    print(\"Failed to load model:\", e)\n"
   ]
  },
  {
   "cell_type": "code",
   "execution_count": 2,
   "id": "fabaa12d",
   "metadata": {},
   "outputs": [],
   "source": [
    "import pandas as pd\n",
    "\n",
    "# Example dummy input row\n",
    "X_dummy = pd.DataFrame([{\n",
    "    'Age': 30,\n",
    "    'Years of Experience': 5,\n",
    "    'Gender_Male': 1,\n",
    "    'Education Level_Masters': 0,\n",
    "    'Education Level_PhD': 1,\n",
    "    'Job Title_Data Scientist': 1,\n",
    "    'Job Title_Manager': 0,\n",
    "    'Job Title_Software Engineer': 0\n",
    "    \n",
    "}])\n",
    "\n",
    "#Identify the missing columns expected by the model\n",
    "missing_cols = [col for col in model.get_booster().feature_names if col not in X_dummy.columns]\n",
    "\n",
    "#Creating a DataFrame with zeros for all missing columns\n",
    "fill_df = pd.DataFrame(0, index=X_dummy.index, columns=missing_cols)\n",
    "\n",
    "#Concatenate with existing dummy features\n",
    "X_dummy = pd.concat([X_dummy, fill_df], axis=1)\n",
    "\n",
    "#Reorder columns to match model input\n",
    "X_dummy = X_dummy[model.get_booster().feature_names]\n",
    "\n"
   ]
  },
  {
   "cell_type": "code",
   "execution_count": 3,
   "id": "c0bda244",
   "metadata": {},
   "outputs": [
    {
     "name": "stdout",
     "output_type": "stream",
     "text": [
      "Prediction: [174432.55]\n",
      "Prediction test passed.\n"
     ]
    }
   ],
   "source": [
    "# Make prediction\n",
    "try:\n",
    "    y_pred = model.predict(X_dummy)\n",
    "    print(\"Prediction:\", y_pred)\n",
    "    \n",
    "    assert y_pred.shape == (1,), \"Output shape mismatch\"\n",
    "    assert y_pred[0] > 0, \"Prediction should be positive\"\n",
    "    print(\"Prediction test passed.\")\n",
    "except Exception as e:\n",
    "    print(\"Prediction failed:\", e)\n"
   ]
  }
 ],
 "metadata": {
  "kernelspec": {
   "display_name": "ml-env",
   "language": "python",
   "name": "python3"
  },
  "language_info": {
   "codemirror_mode": {
    "name": "ipython",
    "version": 3
   },
   "file_extension": ".py",
   "mimetype": "text/x-python",
   "name": "python",
   "nbconvert_exporter": "python",
   "pygments_lexer": "ipython3",
   "version": "3.11.13"
  }
 },
 "nbformat": 4,
 "nbformat_minor": 5
}
